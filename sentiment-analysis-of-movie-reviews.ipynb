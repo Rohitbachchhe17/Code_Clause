{
 "cells": [
  {
   "cell_type": "markdown",
   "id": "bebc00b2",
   "metadata": {
    "id": "8Gf0u3uzd7oM",
    "papermill": {
     "duration": 0.024633,
     "end_time": "2022-12-02T10:09:36.093696",
     "exception": false,
     "start_time": "2022-12-02T10:09:36.069063",
     "status": "completed"
    },
    "tags": []
   },
   "source": [
    "# Assignment - Sentiment Analysis of Movie Reviews\n",
    "\n",
    "![](https://i.imgur.com/6Wfmf2S.png)\n",
    "\n",
    "> **Problem Statement**: Apply the TF-IDF technique to train ML models for sentiment analysis using data from the \"[Sentiment Analysis on Movie Reviews](https://www.kaggle.com/c/sentiment-analysis-on-movie-reviews)\" Kaggle competition.\n",
    "\n",
    "\n",
    "Outline:\n",
    "\n",
    "1. Download and Explore Dataset\n",
    "2. Implement the TF-IDF Technique\n",
    "3. Train baseline model & submit to Kaggle\n",
    "4. Train & finetune different ML models\n",
    "3. Document & submit your notebook\n",
    "\n"
   ]
  },
  {
   "cell_type": "markdown",
   "id": "0d77ed36",
   "metadata": {
    "id": "hw0pygCOefi9",
    "papermill": {
     "duration": 0.023418,
     "end_time": "2022-12-02T10:09:36.140668",
     "exception": false,
     "start_time": "2022-12-02T10:09:36.117250",
     "status": "completed"
    },
    "tags": []
   },
   "source": [
    "# Reading and Exploration of Data"
   ]
  },
  {
   "cell_type": "code",
   "execution_count": 1,
   "id": "42a9cff6",
   "metadata": {
    "execution": {
     "iopub.execute_input": "2022-12-02T10:09:36.189523Z",
     "iopub.status.busy": "2022-12-02T10:09:36.188756Z",
     "iopub.status.idle": "2022-12-02T10:09:36.198623Z",
     "shell.execute_reply": "2022-12-02T10:09:36.198008Z"
    },
    "executionInfo": {
     "elapsed": 6,
     "status": "ok",
     "timestamp": 1668506398483,
     "user": {
      "displayName": "Aakash N S",
      "userId": "03254185060287524023"
     },
     "user_tz": -330
    },
    "id": "FnaGd60Zuxgg",
    "papermill": {
     "duration": 0.036745,
     "end_time": "2022-12-02T10:09:36.200536",
     "exception": false,
     "start_time": "2022-12-02T10:09:36.163791",
     "status": "completed"
    },
    "tags": []
   },
   "outputs": [],
   "source": [
    "import pandas as pd"
   ]
  },
  {
   "cell_type": "markdown",
   "id": "eecbdda3",
   "metadata": {
    "papermill": {
     "duration": 0.022904,
     "end_time": "2022-12-02T10:09:36.247032",
     "exception": false,
     "start_time": "2022-12-02T10:09:36.224128",
     "status": "completed"
    },
    "tags": []
   },
   "source": [
    "### What is a TSV file?\n",
    "> **A TSV file is a tab-separated values file commonly used by spreadsheet applications to exchange data between databases. It stores a data table in which each record in the table is on a separate line, and data columns are separated by tabs.**"
   ]
  },
  {
   "cell_type": "code",
   "execution_count": 2,
   "id": "b5ebac35",
   "metadata": {
    "execution": {
     "iopub.execute_input": "2022-12-02T10:09:36.295652Z",
     "iopub.status.busy": "2022-12-02T10:09:36.295303Z",
     "iopub.status.idle": "2022-12-02T10:09:36.560141Z",
     "shell.execute_reply": "2022-12-02T10:09:36.558905Z"
    },
    "executionInfo": {
     "elapsed": 3,
     "status": "ok",
     "timestamp": 1668506516438,
     "user": {
      "displayName": "Aakash N S",
      "userId": "03254185060287524023"
     },
     "user_tz": -330
    },
    "id": "lcRhDakmuxEm",
    "papermill": {
     "duration": 0.29215,
     "end_time": "2022-12-02T10:09:36.562541",
     "exception": false,
     "start_time": "2022-12-02T10:09:36.270391",
     "status": "completed"
    },
    "tags": []
   },
   "outputs": [],
   "source": [
    "#read TSV data file\n",
    "train_df = pd.read_csv('/kaggle/input/sentiment-analysis-on-movie-reviews/train.tsv.zip',sep='\\t')\n",
    "test_df  = pd.read_csv('/kaggle/input/sentiment-analysis-on-movie-reviews/test.tsv.zip',sep='\\t')\n",
    "sub_df = pd.read_csv('/kaggle/input/sentiment-analysis-on-movie-reviews/sampleSubmission.csv')"
   ]
  },
  {
   "cell_type": "markdown",
   "id": "37d974be",
   "metadata": {
    "papermill": {
     "duration": 0.022699,
     "end_time": "2022-12-02T10:09:36.608747",
     "exception": false,
     "start_time": "2022-12-02T10:09:36.586048",
     "status": "completed"
    },
    "tags": []
   },
   "source": [
    "### Explore and Visualize Data\n",
    "\n",
    "* Load the train, test, and submission files using Pandas\n",
    "* Explore rows, columns, sample values etc.\n",
    "* Visualize distribution of target columns"
   ]
  },
  {
   "cell_type": "code",
   "execution_count": 3,
   "id": "731896f2",
   "metadata": {
    "execution": {
     "iopub.execute_input": "2022-12-02T10:09:36.657322Z",
     "iopub.status.busy": "2022-12-02T10:09:36.656657Z",
     "iopub.status.idle": "2022-12-02T10:09:36.676832Z",
     "shell.execute_reply": "2022-12-02T10:09:36.676139Z"
    },
    "executionInfo": {
     "elapsed": 3,
     "status": "ok",
     "timestamp": 1668506516438,
     "user": {
      "displayName": "Aakash N S",
      "userId": "03254185060287524023"
     },
     "user_tz": -330
    },
    "id": "MdQqvmtvend_",
    "papermill": {
     "duration": 0.047291,
     "end_time": "2022-12-02T10:09:36.678970",
     "exception": false,
     "start_time": "2022-12-02T10:09:36.631679",
     "status": "completed"
    },
    "tags": []
   },
   "outputs": [
    {
     "data": {
      "text/html": [
       "<div>\n",
       "<style scoped>\n",
       "    .dataframe tbody tr th:only-of-type {\n",
       "        vertical-align: middle;\n",
       "    }\n",
       "\n",
       "    .dataframe tbody tr th {\n",
       "        vertical-align: top;\n",
       "    }\n",
       "\n",
       "    .dataframe thead th {\n",
       "        text-align: right;\n",
       "    }\n",
       "</style>\n",
       "<table border=\"1\" class=\"dataframe\">\n",
       "  <thead>\n",
       "    <tr style=\"text-align: right;\">\n",
       "      <th></th>\n",
       "      <th>PhraseId</th>\n",
       "      <th>SentenceId</th>\n",
       "      <th>Phrase</th>\n",
       "      <th>Sentiment</th>\n",
       "    </tr>\n",
       "  </thead>\n",
       "  <tbody>\n",
       "    <tr>\n",
       "      <th>0</th>\n",
       "      <td>1</td>\n",
       "      <td>1</td>\n",
       "      <td>A series of escapades demonstrating the adage ...</td>\n",
       "      <td>1</td>\n",
       "    </tr>\n",
       "    <tr>\n",
       "      <th>1</th>\n",
       "      <td>2</td>\n",
       "      <td>1</td>\n",
       "      <td>A series of escapades demonstrating the adage ...</td>\n",
       "      <td>2</td>\n",
       "    </tr>\n",
       "    <tr>\n",
       "      <th>2</th>\n",
       "      <td>3</td>\n",
       "      <td>1</td>\n",
       "      <td>A series</td>\n",
       "      <td>2</td>\n",
       "    </tr>\n",
       "    <tr>\n",
       "      <th>3</th>\n",
       "      <td>4</td>\n",
       "      <td>1</td>\n",
       "      <td>A</td>\n",
       "      <td>2</td>\n",
       "    </tr>\n",
       "    <tr>\n",
       "      <th>4</th>\n",
       "      <td>5</td>\n",
       "      <td>1</td>\n",
       "      <td>series</td>\n",
       "      <td>2</td>\n",
       "    </tr>\n",
       "  </tbody>\n",
       "</table>\n",
       "</div>"
      ],
      "text/plain": [
       "   PhraseId  SentenceId                                             Phrase  \\\n",
       "0         1           1  A series of escapades demonstrating the adage ...   \n",
       "1         2           1  A series of escapades demonstrating the adage ...   \n",
       "2         3           1                                           A series   \n",
       "3         4           1                                                  A   \n",
       "4         5           1                                             series   \n",
       "\n",
       "   Sentiment  \n",
       "0          1  \n",
       "1          2  \n",
       "2          2  \n",
       "3          2  \n",
       "4          2  "
      ]
     },
     "execution_count": 3,
     "metadata": {},
     "output_type": "execute_result"
    }
   ],
   "source": [
    "train_df.head()"
   ]
  },
  {
   "cell_type": "code",
   "execution_count": 4,
   "id": "206beb21",
   "metadata": {
    "execution": {
     "iopub.execute_input": "2022-12-02T10:09:36.728692Z",
     "iopub.status.busy": "2022-12-02T10:09:36.728043Z",
     "iopub.status.idle": "2022-12-02T10:09:36.737564Z",
     "shell.execute_reply": "2022-12-02T10:09:36.736219Z"
    },
    "executionInfo": {
     "elapsed": 2556,
     "status": "ok",
     "timestamp": 1668506519409,
     "user": {
      "displayName": "Aakash N S",
      "userId": "03254185060287524023"
     },
     "user_tz": -330
    },
    "id": "nEFLvfunenbr",
    "outputId": "8f98046a-19a7-472a-c13d-9065f3e556dd",
    "papermill": {
     "duration": 0.037375,
     "end_time": "2022-12-02T10:09:36.740282",
     "exception": false,
     "start_time": "2022-12-02T10:09:36.702907",
     "status": "completed"
    },
    "tags": []
   },
   "outputs": [
    {
     "data": {
      "text/html": [
       "<div>\n",
       "<style scoped>\n",
       "    .dataframe tbody tr th:only-of-type {\n",
       "        vertical-align: middle;\n",
       "    }\n",
       "\n",
       "    .dataframe tbody tr th {\n",
       "        vertical-align: top;\n",
       "    }\n",
       "\n",
       "    .dataframe thead th {\n",
       "        text-align: right;\n",
       "    }\n",
       "</style>\n",
       "<table border=\"1\" class=\"dataframe\">\n",
       "  <thead>\n",
       "    <tr style=\"text-align: right;\">\n",
       "      <th></th>\n",
       "      <th>PhraseId</th>\n",
       "      <th>SentenceId</th>\n",
       "      <th>Phrase</th>\n",
       "    </tr>\n",
       "  </thead>\n",
       "  <tbody>\n",
       "    <tr>\n",
       "      <th>0</th>\n",
       "      <td>156061</td>\n",
       "      <td>8545</td>\n",
       "      <td>An intermittently pleasing but mostly routine ...</td>\n",
       "    </tr>\n",
       "    <tr>\n",
       "      <th>1</th>\n",
       "      <td>156062</td>\n",
       "      <td>8545</td>\n",
       "      <td>An intermittently pleasing but mostly routine ...</td>\n",
       "    </tr>\n",
       "    <tr>\n",
       "      <th>2</th>\n",
       "      <td>156063</td>\n",
       "      <td>8545</td>\n",
       "      <td>An</td>\n",
       "    </tr>\n",
       "    <tr>\n",
       "      <th>3</th>\n",
       "      <td>156064</td>\n",
       "      <td>8545</td>\n",
       "      <td>intermittently pleasing but mostly routine effort</td>\n",
       "    </tr>\n",
       "    <tr>\n",
       "      <th>4</th>\n",
       "      <td>156065</td>\n",
       "      <td>8545</td>\n",
       "      <td>intermittently pleasing but mostly routine</td>\n",
       "    </tr>\n",
       "  </tbody>\n",
       "</table>\n",
       "</div>"
      ],
      "text/plain": [
       "   PhraseId  SentenceId                                             Phrase\n",
       "0    156061        8545  An intermittently pleasing but mostly routine ...\n",
       "1    156062        8545  An intermittently pleasing but mostly routine ...\n",
       "2    156063        8545                                                 An\n",
       "3    156064        8545  intermittently pleasing but mostly routine effort\n",
       "4    156065        8545         intermittently pleasing but mostly routine"
      ]
     },
     "execution_count": 4,
     "metadata": {},
     "output_type": "execute_result"
    }
   ],
   "source": [
    "test_df.head()"
   ]
  },
  {
   "cell_type": "code",
   "execution_count": 5,
   "id": "6b123a2e",
   "metadata": {
    "execution": {
     "iopub.execute_input": "2022-12-02T10:09:36.792310Z",
     "iopub.status.busy": "2022-12-02T10:09:36.791740Z",
     "iopub.status.idle": "2022-12-02T10:09:36.800241Z",
     "shell.execute_reply": "2022-12-02T10:09:36.798966Z"
    },
    "executionInfo": {
     "elapsed": 781,
     "status": "ok",
     "timestamp": 1668506562109,
     "user": {
      "displayName": "Aakash N S",
      "userId": "03254185060287524023"
     },
     "user_tz": -330
    },
    "id": "QOq7CBqftvz-",
    "outputId": "d1e9ee1d-7705-4fce-e72f-69c8ff079019",
    "papermill": {
     "duration": 0.036957,
     "end_time": "2022-12-02T10:09:36.802334",
     "exception": false,
     "start_time": "2022-12-02T10:09:36.765377",
     "status": "completed"
    },
    "tags": []
   },
   "outputs": [
    {
     "data": {
      "text/html": [
       "<div>\n",
       "<style scoped>\n",
       "    .dataframe tbody tr th:only-of-type {\n",
       "        vertical-align: middle;\n",
       "    }\n",
       "\n",
       "    .dataframe tbody tr th {\n",
       "        vertical-align: top;\n",
       "    }\n",
       "\n",
       "    .dataframe thead th {\n",
       "        text-align: right;\n",
       "    }\n",
       "</style>\n",
       "<table border=\"1\" class=\"dataframe\">\n",
       "  <thead>\n",
       "    <tr style=\"text-align: right;\">\n",
       "      <th></th>\n",
       "      <th>PhraseId</th>\n",
       "      <th>Sentiment</th>\n",
       "    </tr>\n",
       "  </thead>\n",
       "  <tbody>\n",
       "    <tr>\n",
       "      <th>0</th>\n",
       "      <td>156061</td>\n",
       "      <td>2</td>\n",
       "    </tr>\n",
       "    <tr>\n",
       "      <th>1</th>\n",
       "      <td>156062</td>\n",
       "      <td>2</td>\n",
       "    </tr>\n",
       "    <tr>\n",
       "      <th>2</th>\n",
       "      <td>156063</td>\n",
       "      <td>2</td>\n",
       "    </tr>\n",
       "    <tr>\n",
       "      <th>3</th>\n",
       "      <td>156064</td>\n",
       "      <td>2</td>\n",
       "    </tr>\n",
       "    <tr>\n",
       "      <th>4</th>\n",
       "      <td>156065</td>\n",
       "      <td>2</td>\n",
       "    </tr>\n",
       "  </tbody>\n",
       "</table>\n",
       "</div>"
      ],
      "text/plain": [
       "   PhraseId  Sentiment\n",
       "0    156061          2\n",
       "1    156062          2\n",
       "2    156063          2\n",
       "3    156064          2\n",
       "4    156065          2"
      ]
     },
     "execution_count": 5,
     "metadata": {},
     "output_type": "execute_result"
    }
   ],
   "source": [
    "sub_df.head()"
   ]
  },
  {
   "cell_type": "code",
   "execution_count": 6,
   "id": "406f2695",
   "metadata": {
    "execution": {
     "iopub.execute_input": "2022-12-02T10:09:36.852522Z",
     "iopub.status.busy": "2022-12-02T10:09:36.852166Z",
     "iopub.status.idle": "2022-12-02T10:09:36.881155Z",
     "shell.execute_reply": "2022-12-02T10:09:36.880242Z"
    },
    "papermill": {
     "duration": 0.056617,
     "end_time": "2022-12-02T10:09:36.883212",
     "exception": false,
     "start_time": "2022-12-02T10:09:36.826595",
     "status": "completed"
    },
    "tags": []
   },
   "outputs": [
    {
     "name": "stdout",
     "output_type": "stream",
     "text": [
      "<class 'pandas.core.frame.DataFrame'>\n",
      "RangeIndex: 156060 entries, 0 to 156059\n",
      "Data columns (total 4 columns):\n",
      " #   Column      Non-Null Count   Dtype \n",
      "---  ------      --------------   ----- \n",
      " 0   PhraseId    156060 non-null  int64 \n",
      " 1   SentenceId  156060 non-null  int64 \n",
      " 2   Phrase      156060 non-null  object\n",
      " 3   Sentiment   156060 non-null  int64 \n",
      "dtypes: int64(3), object(1)\n",
      "memory usage: 4.8+ MB\n"
     ]
    }
   ],
   "source": [
    "train_df.info()"
   ]
  },
  {
   "cell_type": "code",
   "execution_count": 7,
   "id": "4c60e285",
   "metadata": {
    "execution": {
     "iopub.execute_input": "2022-12-02T10:09:36.933874Z",
     "iopub.status.busy": "2022-12-02T10:09:36.932749Z",
     "iopub.status.idle": "2022-12-02T10:09:36.939699Z",
     "shell.execute_reply": "2022-12-02T10:09:36.938624Z"
    },
    "papermill": {
     "duration": 0.034234,
     "end_time": "2022-12-02T10:09:36.941710",
     "exception": false,
     "start_time": "2022-12-02T10:09:36.907476",
     "status": "completed"
    },
    "tags": []
   },
   "outputs": [
    {
     "name": "stdout",
     "output_type": "stream",
     "text": [
      "train -  (156060, 4)\n",
      "test -  (66292, 3)\n",
      "Submission -  (66292, 2)\n"
     ]
    }
   ],
   "source": [
    "#shape of all data\n",
    "print(\"train - \",train_df.shape)\n",
    "print(\"test - \",test_df.shape)\n",
    "print(\"Submission - \",sub_df.shape)"
   ]
  },
  {
   "cell_type": "code",
   "execution_count": 8,
   "id": "549655b5",
   "metadata": {
    "execution": {
     "iopub.execute_input": "2022-12-02T10:09:36.994633Z",
     "iopub.status.busy": "2022-12-02T10:09:36.993689Z",
     "iopub.status.idle": "2022-12-02T10:09:37.005456Z",
     "shell.execute_reply": "2022-12-02T10:09:37.003958Z"
    },
    "papermill": {
     "duration": 0.041058,
     "end_time": "2022-12-02T10:09:37.007671",
     "exception": false,
     "start_time": "2022-12-02T10:09:36.966613",
     "status": "completed"
    },
    "tags": []
   },
   "outputs": [
    {
     "name": "stdout",
     "output_type": "stream",
     "text": [
      "0    0.045316\n",
      "1    0.174760\n",
      "2    0.509945\n",
      "3    0.210989\n",
      "4    0.058990\n",
      "Name: Sentiment, dtype: float64\n"
     ]
    }
   ],
   "source": [
    "print(train_df.Sentiment.value_counts(normalize=True).sort_index())"
   ]
  },
  {
   "cell_type": "code",
   "execution_count": 9,
   "id": "758d9bf5",
   "metadata": {
    "execution": {
     "iopub.execute_input": "2022-12-02T10:09:37.058901Z",
     "iopub.status.busy": "2022-12-02T10:09:37.058540Z",
     "iopub.status.idle": "2022-12-02T10:09:37.252768Z",
     "shell.execute_reply": "2022-12-02T10:09:37.251047Z"
    },
    "papermill": {
     "duration": 0.222802,
     "end_time": "2022-12-02T10:09:37.255465",
     "exception": false,
     "start_time": "2022-12-02T10:09:37.032663",
     "status": "completed"
    },
    "tags": []
   },
   "outputs": [
    {
     "data": {
      "text/plain": [
       "<AxesSubplot:>"
      ]
     },
     "execution_count": 9,
     "metadata": {},
     "output_type": "execute_result"
    },
    {
     "data": {
      "image/png": "[encoded data removed]",
      "text/plain": [
       "<Figure size 432x288 with 1 Axes>"
      ]
     },
     "metadata": {
      "needs_background": "light"
     },
     "output_type": "display_data"
    }
   ],
   "source": [
    "train_df.Sentiment.value_counts().sort_index().plot(kind='bar',color='hotpink')"
   ]
  },
  {
   "cell_type": "code",
   "execution_count": 10,
   "id": "a0598da0",
   "metadata": {
    "execution": {
     "iopub.execute_input": "2022-12-02T10:09:37.307164Z",
     "iopub.status.busy": "2022-12-02T10:09:37.306777Z",
     "iopub.status.idle": "2022-12-02T10:09:37.506218Z",
     "shell.execute_reply": "2022-12-02T10:09:37.505413Z"
    },
    "papermill": {
     "duration": 0.228818,
     "end_time": "2022-12-02T10:09:37.509826",
     "exception": false,
     "start_time": "2022-12-02T10:09:37.281008",
     "status": "completed"
    },
    "tags": []
   },
   "outputs": [
    {
     "data": {
      "text/plain": [
       "<AxesSubplot:title={'center':'Pie chart of Sentiment Class'}, ylabel='Sentiment'>"
      ]
     },
     "execution_count": 10,
     "metadata": {},
     "output_type": "execute_result"
    },
    {
     "data": {
      "image/png": "[encoded data removed]",
      "text/plain": [
       "<Figure size 864x864 with 1 Axes>"
      ]
     },
     "metadata": {},
     "output_type": "display_data"
    }
   ],
   "source": [
    "df2=train_df.copy(deep=True)\n",
    "pie1=pd.DataFrame(df2['Sentiment'].replace(0,'Negative').replace(1,'Little Negative').replace(2,'Neutral').replace(3,'Little positive').replace(4,'Positive').value_counts())\n",
    "pie1.reset_index(inplace=True)\n",
    "pie1.plot(kind='pie', title='Pie chart of Sentiment Class',y = 'Sentiment', \n",
    "          autopct='%1.1f%%', shadow=False, labels=pie1['index'], legend = False, fontsize=14, figsize=(12,12))"
   ]
  },
  {
   "cell_type": "code",
   "execution_count": 11,
   "id": "c79af4e2",
   "metadata": {
    "execution": {
     "iopub.execute_input": "2022-12-02T10:09:37.572136Z",
     "iopub.status.busy": "2022-12-02T10:09:37.571482Z",
     "iopub.status.idle": "2022-12-02T10:09:37.582793Z",
     "shell.execute_reply": "2022-12-02T10:09:37.582141Z"
    },
    "executionInfo": {
     "elapsed": 5,
     "status": "ok",
     "timestamp": 1668506962995,
     "user": {
      "displayName": "Aakash N S",
      "userId": "03254185060287524023"
     },
     "user_tz": -330
    },
    "id": "H2JenReXw7SI",
    "papermill": {
     "duration": 0.041779,
     "end_time": "2022-12-02T10:09:37.585061",
     "exception": false,
     "start_time": "2022-12-02T10:09:37.543282",
     "status": "completed"
    },
    "tags": []
   },
   "outputs": [
    {
     "data": {
      "text/plain": [
       "array(['revelation', 'racial tension', 'undeniably intriguing film',\n",
       "       'seems to be missing .', 'something',\n",
       "       'its leaden acting , dull exposition and telegraphed ` surprises',\n",
       "       'has a feel for the character at all stages of her life',\n",
       "       'been hyped to be because it plays everything too safe',\n",
       "       \"'s a rather listless amble down the middle of the road , where the thematic ironies are too obvious and the sexual politics too smug\",\n",
       "       'the signs'], dtype=object)"
      ]
     },
     "execution_count": 11,
     "metadata": {},
     "output_type": "execute_result"
    }
   ],
   "source": [
    "#this will give us some random samples of our data\n",
    "train_df.Phrase.sample(10).values"
   ]
  },
  {
   "cell_type": "code",
   "execution_count": 12,
   "id": "4cae9b32",
   "metadata": {
    "execution": {
     "iopub.execute_input": "2022-12-02T10:09:37.638709Z",
     "iopub.status.busy": "2022-12-02T10:09:37.638363Z",
     "iopub.status.idle": "2022-12-02T10:09:37.645850Z",
     "shell.execute_reply": "2022-12-02T10:09:37.645133Z"
    },
    "papermill": {
     "duration": 0.036447,
     "end_time": "2022-12-02T10:09:37.647583",
     "exception": false,
     "start_time": "2022-12-02T10:09:37.611136",
     "status": "completed"
    },
    "tags": []
   },
   "outputs": [
    {
     "data": {
      "text/plain": [
       "0         A series of escapades demonstrating the adage ...\n",
       "1         A series of escapades demonstrating the adage ...\n",
       "2                                                  A series\n",
       "3                                                         A\n",
       "4                                                    series\n",
       "                                ...                        \n",
       "156055                                            Hearst 's\n",
       "156056                            forced avuncular chortles\n",
       "156057                                   avuncular chortles\n",
       "156058                                            avuncular\n",
       "156059                                             chortles\n",
       "Name: Phrase, Length: 156060, dtype: object"
      ]
     },
     "execution_count": 12,
     "metadata": {},
     "output_type": "execute_result"
    }
   ],
   "source": [
    "train_df.Phrase"
   ]
  },
  {
   "cell_type": "markdown",
   "id": "928a8c83",
   "metadata": {
    "papermill": {
     "duration": 0.025181,
     "end_time": "2022-12-02T10:09:37.698600",
     "exception": false,
     "start_time": "2022-12-02T10:09:37.673419",
     "status": "completed"
    },
    "tags": []
   },
   "source": [
    "### Deep Drive in data"
   ]
  },
  {
   "cell_type": "code",
   "execution_count": 13,
   "id": "4f956af4",
   "metadata": {
    "execution": {
     "iopub.execute_input": "2022-12-02T10:09:37.751934Z",
     "iopub.status.busy": "2022-12-02T10:09:37.751511Z",
     "iopub.status.idle": "2022-12-02T10:09:37.759714Z",
     "shell.execute_reply": "2022-12-02T10:09:37.758760Z"
    },
    "papermill": {
     "duration": 0.037553,
     "end_time": "2022-12-02T10:09:37.762187",
     "exception": false,
     "start_time": "2022-12-02T10:09:37.724634",
     "status": "completed"
    },
    "tags": []
   },
   "outputs": [
    {
     "data": {
      "text/plain": [
       "array(['would have a hard time sitting through this one',\n",
       "       'have a hard time sitting through this one',\n",
       "       'Aggressive self-glorification and a manipulative whitewash',\n",
       "       'self-glorification and a manipulative whitewash',\n",
       "       'Trouble Every Day is a plodding mess .', 'is a plodding mess',\n",
       "       'plodding mess', 'could hate it for the same reason', 'hate it',\n",
       "       'hate'], dtype=object)"
      ]
     },
     "execution_count": 13,
     "metadata": {},
     "output_type": "execute_result"
    }
   ],
   "source": [
    "#some Phrases with 0-Sentiment\n",
    "train_df[train_df.Sentiment == 0].Phrase.values[:10]"
   ]
  },
  {
   "cell_type": "code",
   "execution_count": 14,
   "id": "ae4e8d7e",
   "metadata": {
    "execution": {
     "iopub.execute_input": "2022-12-02T10:09:37.816521Z",
     "iopub.status.busy": "2022-12-02T10:09:37.815809Z",
     "iopub.status.idle": "2022-12-02T10:09:37.826105Z",
     "shell.execute_reply": "2022-12-02T10:09:37.824750Z"
    },
    "executionInfo": {
     "elapsed": 1,
     "status": "ok",
     "timestamp": 1668512017776,
     "user": {
      "displayName": "Aakash N S",
      "userId": "03254185060287524023"
     },
     "user_tz": -330
    },
    "id": "oPwLSKsrvdTa",
    "papermill": {
     "duration": 0.040762,
     "end_time": "2022-12-02T10:09:37.828642",
     "exception": false,
     "start_time": "2022-12-02T10:09:37.787880",
     "status": "completed"
    },
    "tags": []
   },
   "outputs": [
    {
     "data": {
      "text/plain": [
       "array(['A series of escapades demonstrating the adage that what is good for the goose is also good for the gander , some of which occasionally amuses but none of which amounts to much of a story .',\n",
       "       'the gander , some of which occasionally amuses but none of which amounts to much of a story',\n",
       "       'but none of which amounts to much of a story',\n",
       "       'none of which amounts to much of a story',\n",
       "       \"Even fans of Ismail Merchant 's work , I suspect , would have a hard time sitting through this one .\",\n",
       "       ', I suspect , would have a hard time sitting through this one .',\n",
       "       'would have a hard time sitting through this one .',\n",
       "       'a hard time sitting through this one', 'a hard time', 'hard time'],\n",
       "      dtype=object)"
      ]
     },
     "execution_count": 14,
     "metadata": {},
     "output_type": "execute_result"
    }
   ],
   "source": [
    "#some Phrases with 1-Sentiment\n",
    "train_df[train_df.Sentiment == 1].Phrase.values[:10]"
   ]
  },
  {
   "cell_type": "code",
   "execution_count": 15,
   "id": "f887e662",
   "metadata": {
    "execution": {
     "iopub.execute_input": "2022-12-02T10:09:37.882768Z",
     "iopub.status.busy": "2022-12-02T10:09:37.882413Z",
     "iopub.status.idle": "2022-12-02T10:09:37.895801Z",
     "shell.execute_reply": "2022-12-02T10:09:37.894707Z"
    },
    "executionInfo": {
     "elapsed": 530,
     "status": "ok",
     "timestamp": 1668507011139,
     "user": {
      "displayName": "Aakash N S",
      "userId": "03254185060287524023"
     },
     "user_tz": -330
    },
    "id": "4-cvRH3HenYx",
    "papermill": {
     "duration": 0.043004,
     "end_time": "2022-12-02T10:09:37.897959",
     "exception": false,
     "start_time": "2022-12-02T10:09:37.854955",
     "status": "completed"
    },
    "tags": []
   },
   "outputs": [
    {
     "data": {
      "text/plain": [
       "array(['A series of escapades demonstrating the adage that what is good for the goose',\n",
       "       'A series', 'A', 'series',\n",
       "       'of escapades demonstrating the adage that what is good for the goose',\n",
       "       'of',\n",
       "       'escapades demonstrating the adage that what is good for the goose',\n",
       "       'escapades',\n",
       "       'demonstrating the adage that what is good for the goose',\n",
       "       'demonstrating the adage'], dtype=object)"
      ]
     },
     "execution_count": 15,
     "metadata": {},
     "output_type": "execute_result"
    }
   ],
   "source": [
    "#some Phrases with 2-Sentiment\n",
    "train_df[train_df.Sentiment == 2].Phrase.values[:10]"
   ]
  },
  {
   "cell_type": "code",
   "execution_count": 16,
   "id": "a4ec4ff8",
   "metadata": {
    "execution": {
     "iopub.execute_input": "2022-12-02T10:09:37.951568Z",
     "iopub.status.busy": "2022-12-02T10:09:37.950886Z",
     "iopub.status.idle": "2022-12-02T10:09:37.961820Z",
     "shell.execute_reply": "2022-12-02T10:09:37.960925Z"
    },
    "papermill": {
     "duration": 0.039949,
     "end_time": "2022-12-02T10:09:37.963680",
     "exception": false,
     "start_time": "2022-12-02T10:09:37.923731",
     "status": "completed"
    },
    "tags": []
   },
   "outputs": [
    {
     "data": {
      "text/plain": [
       "array(['good for the goose', 'good', 'amuses',\n",
       "       'This quiet , introspective and entertaining independent',\n",
       "       'quiet , introspective and entertaining',\n",
       "       ', introspective and entertaining',\n",
       "       'introspective and entertaining', 'introspective and',\n",
       "       'is worth seeking .', 'fans'], dtype=object)"
      ]
     },
     "execution_count": 16,
     "metadata": {},
     "output_type": "execute_result"
    }
   ],
   "source": [
    "#some Phrases with 3-Sentiment\n",
    "train_df[train_df.Sentiment == 3].Phrase.values[:10]"
   ]
  },
  {
   "cell_type": "code",
   "execution_count": 17,
   "id": "47dcaa3c",
   "metadata": {
    "execution": {
     "iopub.execute_input": "2022-12-02T10:09:38.018124Z",
     "iopub.status.busy": "2022-12-02T10:09:38.016968Z",
     "iopub.status.idle": "2022-12-02T10:09:38.026323Z",
     "shell.execute_reply": "2022-12-02T10:09:38.025329Z"
    },
    "executionInfo": {
     "elapsed": 6,
     "status": "ok",
     "timestamp": 1668507017461,
     "user": {
      "displayName": "Aakash N S",
      "userId": "03254185060287524023"
     },
     "user_tz": -330
    },
    "id": "EF3B9tjTxJVn",
    "outputId": "61a80a39-7bb7-4ab4-badc-139f78665b12",
    "papermill": {
     "duration": 0.038242,
     "end_time": "2022-12-02T10:09:38.028060",
     "exception": false,
     "start_time": "2022-12-02T10:09:37.989818",
     "status": "completed"
    },
    "tags": []
   },
   "outputs": [
    {
     "data": {
      "text/plain": [
       "array(['This quiet , introspective and entertaining independent is worth seeking .',\n",
       "       'quiet , introspective and entertaining independent',\n",
       "       'entertaining', 'is worth seeking',\n",
       "       'A positively thrilling combination of ethnography and all the intrigue , betrayal , deceit and murder of a Shakespearean tragedy or a juicy soap opera',\n",
       "       'A positively thrilling combination of ethnography and all the intrigue , betrayal , deceit and murder',\n",
       "       'thrilling',\n",
       "       'A comedy-drama of nearly epic proportions rooted in a sincere performance by the title character undergoing midlife crisis .',\n",
       "       'nearly epic',\n",
       "       'rooted in a sincere performance by the title character undergoing midlife crisis .'],\n",
       "      dtype=object)"
      ]
     },
     "execution_count": 17,
     "metadata": {},
     "output_type": "execute_result"
    }
   ],
   "source": [
    "# some Phrases with 4-Sentiment\n",
    "train_df[train_df.Sentiment == 4].Phrase.values[:10]"
   ]
  },
  {
   "cell_type": "code",
   "execution_count": 18,
   "id": "aa230cb5",
   "metadata": {
    "execution": {
     "iopub.execute_input": "2022-12-02T10:09:38.089853Z",
     "iopub.status.busy": "2022-12-02T10:09:38.088555Z",
     "iopub.status.idle": "2022-12-02T10:09:38.096080Z",
     "shell.execute_reply": "2022-12-02T10:09:38.095364Z"
    },
    "papermill": {
     "duration": 0.043469,
     "end_time": "2022-12-02T10:09:38.098055",
     "exception": false,
     "start_time": "2022-12-02T10:09:38.054586",
     "status": "completed"
    },
    "tags": []
   },
   "outputs": [
    {
     "data": {
      "text/plain": [
       "((156060, 4), (66292, 3))"
      ]
     },
     "execution_count": 18,
     "metadata": {},
     "output_type": "execute_result"
    }
   ],
   "source": [
    "train_df.shape,test_df.shape"
   ]
  },
  {
   "cell_type": "markdown",
   "id": "f269d38b",
   "metadata": {
    "papermill": {
     "duration": 0.025822,
     "end_time": "2022-12-02T10:09:38.152408",
     "exception": false,
     "start_time": "2022-12-02T10:09:38.126586",
     "status": "completed"
    },
    "tags": []
   },
   "source": [
    "Summarizing insights and learnings from the dataset below:\n",
    "\n",
    "* `Traiining Data has 156060 Rows and 4 Columns`\n",
    "* `Testing Data has 66292 Rows and 3 Columns`"
   ]
  },
  {
   "cell_type": "markdown",
   "id": "ea5f9de2",
   "metadata": {
    "id": "pYaRDixJen33",
    "papermill": {
     "duration": 0.026587,
     "end_time": "2022-12-02T10:09:38.205150",
     "exception": false,
     "start_time": "2022-12-02T10:09:38.178563",
     "status": "completed"
    },
    "tags": []
   },
   "source": [
    "## Implement TF-IDF Technique\n",
    "\n",
    "![](https://i.imgur.com/5VbUPup.png)\n",
    "\n",
    "\n",
    "\n",
    "\n",
    "> TF-IDF (term frequency-inverse document frequency) is an information retrieval technique that helps find the most relevant documents corresponding to a given query.\n",
    "\n",
    "> TF is a measure of how often a phrase appears in a document, and IDF is about how important that phrase is. The multiplication of these two scores makes up a TF-IDF score.\n",
    "\n",
    "> Google has been using TF-IDF (or TF  IDF, TF*IDF, TFIDF, TF.IDF) to rank your content for a long time. It seems that Google focuses more on term frequency rather than on counting keywords. \n",
    "\n",
    "\n",
    "\n",
    "\n",
    "\n",
    "Outline:\n",
    "\n",
    "1. Learn the vocabulary using `TfidfVectorizer`\n",
    "3. Transform training and test data"
   ]
  },
  {
   "cell_type": "markdown",
   "id": "5976f0d3",
   "metadata": {
    "id": "m3cu-meXuETm",
    "papermill": {
     "duration": 0.030878,
     "end_time": "2022-12-02T10:09:38.266638",
     "exception": false,
     "start_time": "2022-12-02T10:09:38.235760",
     "status": "completed"
    },
    "tags": []
   },
   "source": [
    "#### Learn Vocabulary using `TfidfVectorizer `\n",
    "\n",
    "* Create custom tokenizer with stemming\n",
    "* Create a list of stop words\n",
    "* Configure and create `TfidfVectorizer `\n",
    "* Learn vocubulary from training set\n",
    "* View sample entries from vocabulary"
   ]
  },
  {
   "cell_type": "code",
   "execution_count": 19,
   "id": "836a2326",
   "metadata": {
    "execution": {
     "iopub.execute_input": "2022-12-02T10:09:38.326495Z",
     "iopub.status.busy": "2022-12-02T10:09:38.326156Z",
     "iopub.status.idle": "2022-12-02T10:09:39.770561Z",
     "shell.execute_reply": "2022-12-02T10:09:39.769836Z"
    },
    "executionInfo": {
     "elapsed": 1594,
     "status": "ok",
     "timestamp": 1668507603595,
     "user": {
      "displayName": "Aakash N S",
      "userId": "03254185060287524023"
     },
     "user_tz": -330
    },
    "id": "u7pWYRHnzUWW",
    "papermill": {
     "duration": 1.474816,
     "end_time": "2022-12-02T10:09:39.772792",
     "exception": false,
     "start_time": "2022-12-02T10:09:38.297976",
     "status": "completed"
    },
    "tags": []
   },
   "outputs": [],
   "source": [
    "#import required libraries\n",
    "import nltk\n",
    "from nltk.tokenize import word_tokenize\n",
    "from nltk.stem.snowball import SnowballStemmer\n",
    "from nltk.corpus import stopwords"
   ]
  },
  {
   "cell_type": "code",
   "execution_count": 20,
   "id": "9b3b3d12",
   "metadata": {
    "execution": {
     "iopub.execute_input": "2022-12-02T10:09:39.826880Z",
     "iopub.status.busy": "2022-12-02T10:09:39.826263Z",
     "iopub.status.idle": "2022-12-02T10:09:39.830294Z",
     "shell.execute_reply": "2022-12-02T10:09:39.829650Z"
    },
    "executionInfo": {
     "elapsed": 3,
     "status": "ok",
     "timestamp": 1668507632731,
     "user": {
      "displayName": "Aakash N S",
      "userId": "03254185060287524023"
     },
     "user_tz": -330
    },
    "id": "Ag_lyI8mzbqE",
    "papermill": {
     "duration": 0.033266,
     "end_time": "2022-12-02T10:09:39.832074",
     "exception": false,
     "start_time": "2022-12-02T10:09:39.798808",
     "status": "completed"
    },
    "tags": []
   },
   "outputs": [],
   "source": [
    "#setup for english language\n",
    "stemmer  = SnowballStemmer(language='english')"
   ]
  },
  {
   "cell_type": "code",
   "execution_count": 21,
   "id": "412e4d6b",
   "metadata": {
    "execution": {
     "iopub.execute_input": "2022-12-02T10:09:39.885572Z",
     "iopub.status.busy": "2022-12-02T10:09:39.884916Z",
     "iopub.status.idle": "2022-12-02T10:09:39.889433Z",
     "shell.execute_reply": "2022-12-02T10:09:39.888765Z"
    },
    "executionInfo": {
     "elapsed": 3,
     "status": "ok",
     "timestamp": 1668507793378,
     "user": {
      "displayName": "Aakash N S",
      "userId": "03254185060287524023"
     },
     "user_tz": -330
    },
    "id": "4vzkmwVG0GGE",
    "papermill": {
     "duration": 0.033455,
     "end_time": "2022-12-02T10:09:39.891199",
     "exception": false,
     "start_time": "2022-12-02T10:09:39.857744",
     "status": "completed"
    },
    "tags": []
   },
   "outputs": [],
   "source": [
    "#function to create tokenizer\n",
    "def tokenize(text):\n",
    "    return [stemmer.stem(token) for token in word_tokenize(text)]"
   ]
  },
  {
   "cell_type": "code",
   "execution_count": 22,
   "id": "f4363bce",
   "metadata": {
    "execution": {
     "iopub.execute_input": "2022-12-02T10:09:39.944843Z",
     "iopub.status.busy": "2022-12-02T10:09:39.944249Z",
     "iopub.status.idle": "2022-12-02T10:09:39.968040Z",
     "shell.execute_reply": "2022-12-02T10:09:39.967073Z"
    },
    "executionInfo": {
     "elapsed": 464,
     "status": "ok",
     "timestamp": 1668507796330,
     "user": {
      "displayName": "Aakash N S",
      "userId": "03254185060287524023"
     },
     "user_tz": -330
    },
    "id": "DxZWPPfE0FeN",
    "outputId": "caf42f21-5301-4442-80eb-ef049600dffa",
    "papermill": {
     "duration": 0.052984,
     "end_time": "2022-12-02T10:09:39.969957",
     "exception": false,
     "start_time": "2022-12-02T10:09:39.916973",
     "status": "completed"
    },
    "tags": []
   },
   "outputs": [
    {
     "data": {
      "text/plain": [
       "['hey', 'how', 'are', 'you', 'go']"
      ]
     },
     "execution_count": 22,
     "metadata": {},
     "output_type": "execute_result"
    }
   ],
   "source": [
    "# test tokenize function\n",
    "tokenize(\"Hey how are you going\")"
   ]
  },
  {
   "cell_type": "code",
   "execution_count": 23,
   "id": "90464ac7",
   "metadata": {
    "execution": {
     "iopub.execute_input": "2022-12-02T10:09:40.025146Z",
     "iopub.status.busy": "2022-12-02T10:09:40.024477Z",
     "iopub.status.idle": "2022-12-02T10:09:40.034497Z",
     "shell.execute_reply": "2022-12-02T10:09:40.033714Z"
    },
    "papermill": {
     "duration": 0.040224,
     "end_time": "2022-12-02T10:09:40.036754",
     "exception": false,
     "start_time": "2022-12-02T10:09:39.996530",
     "status": "completed"
    },
    "tags": []
   },
   "outputs": [],
   "source": [
    "#creating stopword for engilish language\n",
    "eng_stopword = stopwords.words('english')"
   ]
  },
  {
   "cell_type": "code",
   "execution_count": 24,
   "id": "b17ac145",
   "metadata": {
    "execution": {
     "iopub.execute_input": "2022-12-02T10:09:40.098273Z",
     "iopub.status.busy": "2022-12-02T10:09:40.097897Z",
     "iopub.status.idle": "2022-12-02T10:09:40.104901Z",
     "shell.execute_reply": "2022-12-02T10:09:40.103481Z"
    },
    "papermill": {
     "duration": 0.043967,
     "end_time": "2022-12-02T10:09:40.107868",
     "exception": false,
     "start_time": "2022-12-02T10:09:40.063901",
     "status": "completed"
    },
    "tags": []
   },
   "outputs": [
    {
     "data": {
      "text/plain": [
       "\"i, me, my, myself, we, our, ours, ourselves, you, you're, you've, you'll, you'd, your, yours, yourself, yourselves, he, him, his, himself, she, she's, her, hers, herself, it, it's, its, itself, they, them, their, theirs, themselves, what, which, who, whom, this, that, that'll, these, those, am, is, are, was, were, be, been, being, have, has, had, having, do, does, did, doing, a, an, the, and, but, if, or, because, as, until, while, of, at, by, for, with, about, against, between, into, through, during, before, after, above, below, to, from, up, down, in, out, on, off, over, under, again, further, then, once, here, there, when, where, why, how, all, any, both, each, few, more, most, other, some\""
      ]
     },
     "execution_count": 24,
     "metadata": {},
     "output_type": "execute_result"
    }
   ],
   "source": [
    "#here are some english stop words\n",
    "', '.join(eng_stopword[:115])"
   ]
  },
  {
   "cell_type": "code",
   "execution_count": 25,
   "id": "8bac1d79",
   "metadata": {
    "execution": {
     "iopub.execute_input": "2022-12-02T10:09:40.172680Z",
     "iopub.status.busy": "2022-12-02T10:09:40.172047Z",
     "iopub.status.idle": "2022-12-02T10:09:40.177065Z",
     "shell.execute_reply": "2022-12-02T10:09:40.176008Z"
    },
    "papermill": {
     "duration": 0.038516,
     "end_time": "2022-12-02T10:09:40.179159",
     "exception": false,
     "start_time": "2022-12-02T10:09:40.140643",
     "status": "completed"
    },
    "tags": []
   },
   "outputs": [],
   "source": [
    "#select some stopwords\n",
    "selected_stopwords = eng_stopword[:115]"
   ]
  },
  {
   "cell_type": "code",
   "execution_count": 26,
   "id": "e6ca1615",
   "metadata": {
    "execution": {
     "iopub.execute_input": "2022-12-02T10:09:40.234645Z",
     "iopub.status.busy": "2022-12-02T10:09:40.234035Z",
     "iopub.status.idle": "2022-12-02T10:09:40.238200Z",
     "shell.execute_reply": "2022-12-02T10:09:40.237306Z"
    },
    "executionInfo": {
     "elapsed": 3,
     "status": "ok",
     "timestamp": 1668508401776,
     "user": {
      "displayName": "Aakash N S",
      "userId": "03254185060287524023"
     },
     "user_tz": -330
    },
    "id": "ffPOWbhdd7oP",
    "papermill": {
     "duration": 0.034666,
     "end_time": "2022-12-02T10:09:40.240569",
     "exception": false,
     "start_time": "2022-12-02T10:09:40.205903",
     "status": "completed"
    },
    "tags": []
   },
   "outputs": [],
   "source": [
    "from sklearn.feature_extraction.text import TfidfVectorizer"
   ]
  },
  {
   "cell_type": "code",
   "execution_count": 27,
   "id": "eff5460c",
   "metadata": {
    "execution": {
     "iopub.execute_input": "2022-12-02T10:09:40.296622Z",
     "iopub.status.busy": "2022-12-02T10:09:40.295977Z",
     "iopub.status.idle": "2022-12-02T10:09:40.301124Z",
     "shell.execute_reply": "2022-12-02T10:09:40.299993Z"
    },
    "executionInfo": {
     "elapsed": 4,
     "status": "ok",
     "timestamp": 1668508403706,
     "user": {
      "displayName": "Aakash N S",
      "userId": "03254185060287524023"
     },
     "user_tz": -330
    },
    "id": "Tp3P0zaw0ATc",
    "outputId": "c58b70f0-222b-4451-f6ce-eab3e63daec4",
    "papermill": {
     "duration": 0.035839,
     "end_time": "2022-12-02T10:09:40.303474",
     "exception": false,
     "start_time": "2022-12-02T10:09:40.267635",
     "status": "completed"
    },
    "tags": []
   },
   "outputs": [],
   "source": [
    "#creating vectorizer\n",
    "vectorizer = TfidfVectorizer(tokenizer=tokenize,\n",
    "                             stop_words = selected_stopwords,\n",
    "                             ngram_range=(1,2),\n",
    "                             max_features=2000)"
   ]
  },
  {
   "cell_type": "code",
   "execution_count": 28,
   "id": "31ba3729",
   "metadata": {
    "execution": {
     "iopub.execute_input": "2022-12-02T10:09:40.358055Z",
     "iopub.status.busy": "2022-12-02T10:09:40.357693Z",
     "iopub.status.idle": "2022-12-02T10:10:10.200421Z",
     "shell.execute_reply": "2022-12-02T10:10:10.199432Z"
    },
    "executionInfo": {
     "elapsed": 1,
     "status": "ok",
     "timestamp": 1668508406266,
     "user": {
      "displayName": "Aakash N S",
      "userId": "03254185060287524023"
     },
     "user_tz": -330
    },
    "id": "aggX4uwmeswS",
    "papermill": {
     "duration": 29.872505,
     "end_time": "2022-12-02T10:10:10.202608",
     "exception": false,
     "start_time": "2022-12-02T10:09:40.330103",
     "status": "completed"
    },
    "tags": []
   },
   "outputs": [
    {
     "name": "stderr",
     "output_type": "stream",
     "text": [
      "/opt/conda/lib/python3.7/site-packages/sklearn/feature_extraction/text.py:517: UserWarning: The parameter 'token_pattern' will not be used since 'tokenizer' is not None'\n",
      "  \"The parameter 'token_pattern' will not be used\"\n",
      "/opt/conda/lib/python3.7/site-packages/sklearn/feature_extraction/text.py:401: UserWarning: Your stop_words may be inconsistent with your preprocessing. Tokenizing the stop words generated tokens [\"'d\", \"'s\", 'abov', 'ani', 'becaus', 'befor', 'doe', 'dure', 'll', 'onc', 'ourselv', 're', 'themselv', 've', 'whi', 'yourselv'] not in stop_words.\n",
      "  % sorted(inconsistent)\n"
     ]
    },
    {
     "data": {
      "text/plain": [
       "TfidfVectorizer(max_features=2000, ngram_range=(1, 2),\n",
       "                stop_words=['i', 'me', 'my', 'myself', 'we', 'our', 'ours',\n",
       "                            'ourselves', 'you', \"you're\", \"you've\", \"you'll\",\n",
       "                            \"you'd\", 'your', 'yours', 'yourself', 'yourselves',\n",
       "                            'he', 'him', 'his', 'himself', 'she', \"she's\",\n",
       "                            'her', 'hers', 'herself', 'it', \"it's\", 'its',\n",
       "                            'itself', ...],\n",
       "                tokenizer=<function tokenize at 0x7f4b40372320>)"
      ]
     },
     "execution_count": 28,
     "metadata": {},
     "output_type": "execute_result"
    }
   ],
   "source": [
    "vectorizer.fit(train_df.Phrase)"
   ]
  },
  {
   "cell_type": "code",
   "execution_count": 29,
   "id": "6a5f280e",
   "metadata": {
    "execution": {
     "iopub.execute_input": "2022-12-02T10:10:10.258767Z",
     "iopub.status.busy": "2022-12-02T10:10:10.258064Z",
     "iopub.status.idle": "2022-12-02T10:10:10.265722Z",
     "shell.execute_reply": "2022-12-02T10:10:10.264485Z"
    },
    "executionInfo": {
     "elapsed": 12,
     "status": "ok",
     "timestamp": 1668508407512,
     "user": {
      "displayName": "Aakash N S",
      "userId": "03254185060287524023"
     },
     "user_tz": -330
    },
    "id": "UWS0NJkk0Z2p",
    "outputId": "9682e4a8-d1be-4148-c0bb-f82e22bd5eb9",
    "papermill": {
     "duration": 0.038118,
     "end_time": "2022-12-02T10:10:10.267836",
     "exception": false,
     "start_time": "2022-12-02T10:10:10.229718",
     "status": "completed"
    },
    "tags": []
   },
   "outputs": [
    {
     "data": {
      "text/plain": [
       "2000"
      ]
     },
     "execution_count": 29,
     "metadata": {},
     "output_type": "execute_result"
    }
   ],
   "source": [
    "len(vectorizer.vocabulary_)"
   ]
  },
  {
   "cell_type": "code",
   "execution_count": 30,
   "id": "f1e3e463",
   "metadata": {
    "execution": {
     "iopub.execute_input": "2022-12-02T10:10:10.323685Z",
     "iopub.status.busy": "2022-12-02T10:10:10.323321Z",
     "iopub.status.idle": "2022-12-02T10:10:10.331298Z",
     "shell.execute_reply": "2022-12-02T10:10:10.330553Z"
    },
    "executionInfo": {
     "elapsed": 9,
     "status": "ok",
     "timestamp": 1668508407513,
     "user": {
      "displayName": "Aakash N S",
      "userId": "03254185060287524023"
     },
     "user_tz": -330
    },
    "id": "Tu_garEvesta",
    "papermill": {
     "duration": 0.038771,
     "end_time": "2022-12-02T10:10:10.333361",
     "exception": false,
     "start_time": "2022-12-02T10:10:10.294590",
     "status": "completed"
    },
    "tags": []
   },
   "outputs": [
    {
     "data": {
      "text/plain": [
       "array(['!', '$', '&', \"'\", \"' `\", \"''\", \"'d\", \"'d expect\", \"'m\", \"'s\",\n",
       "       \"'s -rrb-\", \"'s also\", \"'s best\", \"'s film\", \"'s go\", \"'s good\",\n",
       "       \"'s hard\", \"'s just\", \"'s like\", \"'s movi\", \"'s no\", \"'s not\",\n",
       "       \"'s noth\", \"'s perform\", \"'s so\", \"'s someth\", \"'s still\",\n",
       "       \"'s too\", \"'s veri\", \"'s work\", '*', '* \\\\', ',', \", '\", \", 's\",\n",
       "       ', ,', ', `', ', ``', ', also', ', amus', ', becaus', ', charact',\n",
       "       ', direct', ', doe', ', emot', ', especi', ', even', ', feel',\n",
       "       ', film', ', funni', ', good', ', intellig', ', just', ', least',\n",
       "       ', like', ', ll', ', love', ', make', ', movi', \", n't\", ', never',\n",
       "       ', no', ', not', ', often', ', one', ', onli', ', rather', ', re',\n",
       "       ', realli', ', should', ', so', ', sometim', ', still', ', though',\n",
       "       ', time', ', too', ', ultim', ', veri', ', visual', ', well',\n",
       "       ', will', ', would', ', yet', '-', '- ,', '--', \"-- 's\", '-- ,',\n",
       "       '-lrb-', '-lrb- -rrb-', '-rrb-', '-rrb- ,', '.', \". '\", '. ``',\n",
       "       '...', '10', '2', '20', '2002'], dtype=object)"
      ]
     },
     "execution_count": 30,
     "metadata": {},
     "output_type": "execute_result"
    }
   ],
   "source": [
    "vectorizer.get_feature_names_out()[:100]"
   ]
  },
  {
   "cell_type": "markdown",
   "id": "87b37253",
   "metadata": {
    "id": "N83nLs4juO67",
    "papermill": {
     "duration": 0.02674,
     "end_time": "2022-12-02T10:10:10.387648",
     "exception": false,
     "start_time": "2022-12-02T10:10:10.360908",
     "status": "completed"
    },
    "tags": []
   },
   "source": [
    "### Transform Training & Test Data\n",
    "\n",
    "* Transform phrases from training set\n",
    "* Transform phrases from test set\n",
    "* Look at some example values"
   ]
  },
  {
   "cell_type": "code",
   "execution_count": 31,
   "id": "f8a4d108",
   "metadata": {
    "execution": {
     "iopub.execute_input": "2022-12-02T10:10:10.444362Z",
     "iopub.status.busy": "2022-12-02T10:10:10.443532Z",
     "iopub.status.idle": "2022-12-02T10:10:10.456885Z",
     "shell.execute_reply": "2022-12-02T10:10:10.455499Z"
    },
    "papermill": {
     "duration": 0.044521,
     "end_time": "2022-12-02T10:10:10.459530",
     "exception": false,
     "start_time": "2022-12-02T10:10:10.415009",
     "status": "completed"
    },
    "tags": []
   },
   "outputs": [
    {
     "data": {
      "text/html": [
       "<div>\n",
       "<style scoped>\n",
       "    .dataframe tbody tr th:only-of-type {\n",
       "        vertical-align: middle;\n",
       "    }\n",
       "\n",
       "    .dataframe tbody tr th {\n",
       "        vertical-align: top;\n",
       "    }\n",
       "\n",
       "    .dataframe thead th {\n",
       "        text-align: right;\n",
       "    }\n",
       "</style>\n",
       "<table border=\"1\" class=\"dataframe\">\n",
       "  <thead>\n",
       "    <tr style=\"text-align: right;\">\n",
       "      <th></th>\n",
       "      <th>PhraseId</th>\n",
       "      <th>SentenceId</th>\n",
       "      <th>Phrase</th>\n",
       "      <th>Sentiment</th>\n",
       "    </tr>\n",
       "  </thead>\n",
       "  <tbody>\n",
       "    <tr>\n",
       "      <th>0</th>\n",
       "      <td>1</td>\n",
       "      <td>1</td>\n",
       "      <td>A series of escapades demonstrating the adage ...</td>\n",
       "      <td>1</td>\n",
       "    </tr>\n",
       "    <tr>\n",
       "      <th>1</th>\n",
       "      <td>2</td>\n",
       "      <td>1</td>\n",
       "      <td>A series of escapades demonstrating the adage ...</td>\n",
       "      <td>2</td>\n",
       "    </tr>\n",
       "    <tr>\n",
       "      <th>2</th>\n",
       "      <td>3</td>\n",
       "      <td>1</td>\n",
       "      <td>A series</td>\n",
       "      <td>2</td>\n",
       "    </tr>\n",
       "    <tr>\n",
       "      <th>3</th>\n",
       "      <td>4</td>\n",
       "      <td>1</td>\n",
       "      <td>A</td>\n",
       "      <td>2</td>\n",
       "    </tr>\n",
       "    <tr>\n",
       "      <th>4</th>\n",
       "      <td>5</td>\n",
       "      <td>1</td>\n",
       "      <td>series</td>\n",
       "      <td>2</td>\n",
       "    </tr>\n",
       "    <tr>\n",
       "      <th>...</th>\n",
       "      <td>...</td>\n",
       "      <td>...</td>\n",
       "      <td>...</td>\n",
       "      <td>...</td>\n",
       "    </tr>\n",
       "    <tr>\n",
       "      <th>156055</th>\n",
       "      <td>156056</td>\n",
       "      <td>8544</td>\n",
       "      <td>Hearst 's</td>\n",
       "      <td>2</td>\n",
       "    </tr>\n",
       "    <tr>\n",
       "      <th>156056</th>\n",
       "      <td>156057</td>\n",
       "      <td>8544</td>\n",
       "      <td>forced avuncular chortles</td>\n",
       "      <td>1</td>\n",
       "    </tr>\n",
       "    <tr>\n",
       "      <th>156057</th>\n",
       "      <td>156058</td>\n",
       "      <td>8544</td>\n",
       "      <td>avuncular chortles</td>\n",
       "      <td>3</td>\n",
       "    </tr>\n",
       "    <tr>\n",
       "      <th>156058</th>\n",
       "      <td>156059</td>\n",
       "      <td>8544</td>\n",
       "      <td>avuncular</td>\n",
       "      <td>2</td>\n",
       "    </tr>\n",
       "    <tr>\n",
       "      <th>156059</th>\n",
       "      <td>156060</td>\n",
       "      <td>8544</td>\n",
       "      <td>chortles</td>\n",
       "      <td>2</td>\n",
       "    </tr>\n",
       "  </tbody>\n",
       "</table>\n",
       "<p>156060 rows × 4 columns</p>\n",
       "</div>"
      ],
      "text/plain": [
       "        PhraseId  SentenceId  \\\n",
       "0              1           1   \n",
       "1              2           1   \n",
       "2              3           1   \n",
       "3              4           1   \n",
       "4              5           1   \n",
       "...          ...         ...   \n",
       "156055    156056        8544   \n",
       "156056    156057        8544   \n",
       "156057    156058        8544   \n",
       "156058    156059        8544   \n",
       "156059    156060        8544   \n",
       "\n",
       "                                                   Phrase  Sentiment  \n",
       "0       A series of escapades demonstrating the adage ...          1  \n",
       "1       A series of escapades demonstrating the adage ...          2  \n",
       "2                                                A series          2  \n",
       "3                                                       A          2  \n",
       "4                                                  series          2  \n",
       "...                                                   ...        ...  \n",
       "156055                                          Hearst 's          2  \n",
       "156056                          forced avuncular chortles          1  \n",
       "156057                                 avuncular chortles          3  \n",
       "156058                                          avuncular          2  \n",
       "156059                                           chortles          2  \n",
       "\n",
       "[156060 rows x 4 columns]"
      ]
     },
     "execution_count": 31,
     "metadata": {},
     "output_type": "execute_result"
    }
   ],
   "source": [
    "train_df"
   ]
  },
  {
   "cell_type": "code",
   "execution_count": 32,
   "id": "a39dce9e",
   "metadata": {
    "execution": {
     "iopub.execute_input": "2022-12-02T10:10:10.516888Z",
     "iopub.status.busy": "2022-12-02T10:10:10.516512Z",
     "iopub.status.idle": "2022-12-02T10:10:40.370980Z",
     "shell.execute_reply": "2022-12-02T10:10:40.369999Z"
    },
    "executionInfo": {
     "elapsed": 32127,
     "status": "ok",
     "timestamp": 1668508666377,
     "user": {
      "displayName": "Aakash N S",
      "userId": "03254185060287524023"
     },
     "user_tz": -330
    },
    "id": "B6WXWiQzuOcX",
    "papermill": {
     "duration": 29.88592,
     "end_time": "2022-12-02T10:10:40.373493",
     "exception": false,
     "start_time": "2022-12-02T10:10:10.487573",
     "status": "completed"
    },
    "tags": []
   },
   "outputs": [
    {
     "name": "stdout",
     "output_type": "stream",
     "text": [
      "CPU times: user 29.8 s, sys: 14.4 ms, total: 29.8 s\n",
      "Wall time: 29.8 s\n"
     ]
    }
   ],
   "source": [
    "%%time\n",
    "inputs = vectorizer.transform(train_df.Phrase)"
   ]
  },
  {
   "cell_type": "code",
   "execution_count": 33,
   "id": "c41d6b94",
   "metadata": {
    "execution": {
     "iopub.execute_input": "2022-12-02T10:10:40.431179Z",
     "iopub.status.busy": "2022-12-02T10:10:40.430596Z",
     "iopub.status.idle": "2022-12-02T10:10:40.439225Z",
     "shell.execute_reply": "2022-12-02T10:10:40.437569Z"
    },
    "executionInfo": {
     "elapsed": 1378,
     "status": "ok",
     "timestamp": 1668508677126,
     "user": {
      "displayName": "Aakash N S",
      "userId": "03254185060287524023"
     },
     "user_tz": -330
    },
    "id": "0BDzHuBbuPSz",
    "outputId": "a83a441f-6342-40ba-bc25-ccf98fd17a43",
    "papermill": {
     "duration": 0.040437,
     "end_time": "2022-12-02T10:10:40.441788",
     "exception": false,
     "start_time": "2022-12-02T10:10:40.401351",
     "status": "completed"
    },
    "tags": []
   },
   "outputs": [
    {
     "data": {
      "text/plain": [
       "(156060, 2000)"
      ]
     },
     "execution_count": 33,
     "metadata": {},
     "output_type": "execute_result"
    }
   ],
   "source": [
    "inputs.shape"
   ]
  },
  {
   "cell_type": "code",
   "execution_count": 34,
   "id": "cef30178",
   "metadata": {
    "execution": {
     "iopub.execute_input": "2022-12-02T10:10:40.498591Z",
     "iopub.status.busy": "2022-12-02T10:10:40.498223Z",
     "iopub.status.idle": "2022-12-02T10:10:41.011222Z",
     "shell.execute_reply": "2022-12-02T10:10:41.010452Z"
    },
    "executionInfo": {
     "elapsed": 705,
     "status": "ok",
     "timestamp": 1668508750900,
     "user": {
      "displayName": "Aakash N S",
      "userId": "03254185060287524023"
     },
     "user_tz": -330
    },
    "id": "sEnfZpS83eUr",
    "outputId": "1134d03b-3045-489e-ad51-bd3d5c5496f5",
    "papermill": {
     "duration": 0.54409,
     "end_time": "2022-12-02T10:10:41.013543",
     "exception": false,
     "start_time": "2022-12-02T10:10:40.469453",
     "status": "completed"
    },
    "tags": []
   },
   "outputs": [
    {
     "data": {
      "text/plain": [
       "array([0.        , 0.        , 0.        , 0.        , 0.        ,\n",
       "       0.        , 0.        , 0.        , 0.        , 0.        ,\n",
       "       0.        , 0.        , 0.        , 0.        , 0.        ,\n",
       "       0.        , 0.        , 0.        , 0.        , 0.        ,\n",
       "       0.        , 0.        , 0.        , 0.        , 0.        ,\n",
       "       0.        , 0.        , 0.        , 0.        , 0.        ,\n",
       "       0.        , 0.        , 0.10508068, 0.        , 0.        ,\n",
       "       0.        , 0.        , 0.        , 0.        , 0.        ,\n",
       "       0.        , 0.        , 0.        , 0.        , 0.        ,\n",
       "       0.        , 0.        , 0.        , 0.        , 0.        ])"
      ]
     },
     "execution_count": 34,
     "metadata": {},
     "output_type": "execute_result"
    }
   ],
   "source": [
    "inputs.toarray()[0][:50]"
   ]
  },
  {
   "cell_type": "code",
   "execution_count": 35,
   "id": "d9be0162",
   "metadata": {
    "execution": {
     "iopub.execute_input": "2022-12-02T10:10:41.070831Z",
     "iopub.status.busy": "2022-12-02T10:10:41.070198Z",
     "iopub.status.idle": "2022-12-02T10:10:41.080853Z",
     "shell.execute_reply": "2022-12-02T10:10:41.079703Z"
    },
    "papermill": {
     "duration": 0.042154,
     "end_time": "2022-12-02T10:10:41.083186",
     "exception": false,
     "start_time": "2022-12-02T10:10:41.041032",
     "status": "completed"
    },
    "tags": []
   },
   "outputs": [
    {
     "data": {
      "text/html": [
       "<div>\n",
       "<style scoped>\n",
       "    .dataframe tbody tr th:only-of-type {\n",
       "        vertical-align: middle;\n",
       "    }\n",
       "\n",
       "    .dataframe tbody tr th {\n",
       "        vertical-align: top;\n",
       "    }\n",
       "\n",
       "    .dataframe thead th {\n",
       "        text-align: right;\n",
       "    }\n",
       "</style>\n",
       "<table border=\"1\" class=\"dataframe\">\n",
       "  <thead>\n",
       "    <tr style=\"text-align: right;\">\n",
       "      <th></th>\n",
       "      <th>PhraseId</th>\n",
       "      <th>SentenceId</th>\n",
       "      <th>Phrase</th>\n",
       "    </tr>\n",
       "  </thead>\n",
       "  <tbody>\n",
       "    <tr>\n",
       "      <th>0</th>\n",
       "      <td>156061</td>\n",
       "      <td>8545</td>\n",
       "      <td>An intermittently pleasing but mostly routine ...</td>\n",
       "    </tr>\n",
       "    <tr>\n",
       "      <th>1</th>\n",
       "      <td>156062</td>\n",
       "      <td>8545</td>\n",
       "      <td>An intermittently pleasing but mostly routine ...</td>\n",
       "    </tr>\n",
       "    <tr>\n",
       "      <th>2</th>\n",
       "      <td>156063</td>\n",
       "      <td>8545</td>\n",
       "      <td>An</td>\n",
       "    </tr>\n",
       "    <tr>\n",
       "      <th>3</th>\n",
       "      <td>156064</td>\n",
       "      <td>8545</td>\n",
       "      <td>intermittently pleasing but mostly routine effort</td>\n",
       "    </tr>\n",
       "    <tr>\n",
       "      <th>4</th>\n",
       "      <td>156065</td>\n",
       "      <td>8545</td>\n",
       "      <td>intermittently pleasing but mostly routine</td>\n",
       "    </tr>\n",
       "    <tr>\n",
       "      <th>...</th>\n",
       "      <td>...</td>\n",
       "      <td>...</td>\n",
       "      <td>...</td>\n",
       "    </tr>\n",
       "    <tr>\n",
       "      <th>66287</th>\n",
       "      <td>222348</td>\n",
       "      <td>11855</td>\n",
       "      <td>A long-winded , predictable scenario .</td>\n",
       "    </tr>\n",
       "    <tr>\n",
       "      <th>66288</th>\n",
       "      <td>222349</td>\n",
       "      <td>11855</td>\n",
       "      <td>A long-winded , predictable scenario</td>\n",
       "    </tr>\n",
       "    <tr>\n",
       "      <th>66289</th>\n",
       "      <td>222350</td>\n",
       "      <td>11855</td>\n",
       "      <td>A long-winded ,</td>\n",
       "    </tr>\n",
       "    <tr>\n",
       "      <th>66290</th>\n",
       "      <td>222351</td>\n",
       "      <td>11855</td>\n",
       "      <td>A long-winded</td>\n",
       "    </tr>\n",
       "    <tr>\n",
       "      <th>66291</th>\n",
       "      <td>222352</td>\n",
       "      <td>11855</td>\n",
       "      <td>predictable scenario</td>\n",
       "    </tr>\n",
       "  </tbody>\n",
       "</table>\n",
       "<p>66292 rows × 3 columns</p>\n",
       "</div>"
      ],
      "text/plain": [
       "       PhraseId  SentenceId                                             Phrase\n",
       "0        156061        8545  An intermittently pleasing but mostly routine ...\n",
       "1        156062        8545  An intermittently pleasing but mostly routine ...\n",
       "2        156063        8545                                                 An\n",
       "3        156064        8545  intermittently pleasing but mostly routine effort\n",
       "4        156065        8545         intermittently pleasing but mostly routine\n",
       "...         ...         ...                                                ...\n",
       "66287    222348       11855             A long-winded , predictable scenario .\n",
       "66288    222349       11855               A long-winded , predictable scenario\n",
       "66289    222350       11855                                    A long-winded ,\n",
       "66290    222351       11855                                      A long-winded\n",
       "66291    222352       11855                               predictable scenario\n",
       "\n",
       "[66292 rows x 3 columns]"
      ]
     },
     "execution_count": 35,
     "metadata": {},
     "output_type": "execute_result"
    }
   ],
   "source": [
    "test_df"
   ]
  },
  {
   "cell_type": "code",
   "execution_count": 36,
   "id": "8ebe3f1f",
   "metadata": {
    "execution": {
     "iopub.execute_input": "2022-12-02T10:10:41.140639Z",
     "iopub.status.busy": "2022-12-02T10:10:41.139957Z",
     "iopub.status.idle": "2022-12-02T10:10:52.976432Z",
     "shell.execute_reply": "2022-12-02T10:10:52.975318Z"
    },
    "executionInfo": {
     "elapsed": 12334,
     "status": "ok",
     "timestamp": 1668508867915,
     "user": {
      "displayName": "Aakash N S",
      "userId": "03254185060287524023"
     },
     "user_tz": -330
    },
    "id": "QLngc6g5yspe",
    "papermill": {
     "duration": 11.867293,
     "end_time": "2022-12-02T10:10:52.978536",
     "exception": false,
     "start_time": "2022-12-02T10:10:41.111243",
     "status": "completed"
    },
    "tags": []
   },
   "outputs": [
    {
     "name": "stdout",
     "output_type": "stream",
     "text": [
      "CPU times: user 11.8 s, sys: 2.91 ms, total: 11.8 s\n",
      "Wall time: 11.8 s\n"
     ]
    }
   ],
   "source": [
    "%%time\n",
    "test_inputs = vectorizer.transform(test_df.Phrase)"
   ]
  },
  {
   "cell_type": "code",
   "execution_count": 37,
   "id": "d470952f",
   "metadata": {
    "execution": {
     "iopub.execute_input": "2022-12-02T10:10:53.036904Z",
     "iopub.status.busy": "2022-12-02T10:10:53.036061Z",
     "iopub.status.idle": "2022-12-02T10:10:53.041771Z",
     "shell.execute_reply": "2022-12-02T10:10:53.040696Z"
    },
    "executionInfo": {
     "elapsed": 697,
     "status": "ok",
     "timestamp": 1668508885995,
     "user": {
      "displayName": "Aakash N S",
      "userId": "03254185060287524023"
     },
     "user_tz": -330
    },
    "id": "z9JRRv_Q4QNf",
    "outputId": "a1c2902a-0b40-4c63-9f8b-968bcd3d2714",
    "papermill": {
     "duration": 0.036796,
     "end_time": "2022-12-02T10:10:53.044185",
     "exception": false,
     "start_time": "2022-12-02T10:10:53.007389",
     "status": "completed"
    },
    "tags": []
   },
   "outputs": [
    {
     "data": {
      "text/plain": [
       "(66292, 2000)"
      ]
     },
     "execution_count": 37,
     "metadata": {},
     "output_type": "execute_result"
    }
   ],
   "source": [
    "test_inputs.shape"
   ]
  },
  {
   "cell_type": "markdown",
   "id": "79eedddb",
   "metadata": {
    "id": "TwLM4r3EetEK",
    "papermill": {
     "duration": 0.027767,
     "end_time": "2022-12-02T10:10:53.099972",
     "exception": false,
     "start_time": "2022-12-02T10:10:53.072205",
     "status": "completed"
    },
    "tags": []
   },
   "source": [
    "## Train Baseline Model & Submit to Kaggle\n",
    "\n",
    "1. Split training and validation sets\n",
    "2. Train logistic regression model\n",
    "3. Study predictions on sample phrases\n",
    "4. Make predictions and submit to Kaggle\n",
    "\n",
    "\n"
   ]
  },
  {
   "cell_type": "markdown",
   "id": "246f9683",
   "metadata": {
    "id": "NAZkydfs4wrX",
    "papermill": {
     "duration": 0.028058,
     "end_time": "2022-12-02T10:10:53.156290",
     "exception": false,
     "start_time": "2022-12-02T10:10:53.128232",
     "status": "completed"
    },
    "tags": []
   },
   "source": [
    "### Split Training and Validation Sets\n",
    "\n",
    "Tip: Don't use a random sample for validation set (why?)"
   ]
  },
  {
   "cell_type": "code",
   "execution_count": 38,
   "id": "3eb6ba38",
   "metadata": {
    "execution": {
     "iopub.execute_input": "2022-12-02T10:10:53.214265Z",
     "iopub.status.busy": "2022-12-02T10:10:53.213870Z",
     "iopub.status.idle": "2022-12-02T10:10:53.218173Z",
     "shell.execute_reply": "2022-12-02T10:10:53.217271Z"
    },
    "executionInfo": {
     "elapsed": 6,
     "status": "ok",
     "timestamp": 1668508993307,
     "user": {
      "displayName": "Aakash N S",
      "userId": "03254185060287524023"
     },
     "user_tz": -330
    },
    "id": "_9wZLI9i4rlB",
    "outputId": "78aef99d-5390-48b2-a330-a423afe1befe",
    "papermill": {
     "duration": 0.035847,
     "end_time": "2022-12-02T10:10:53.219897",
     "exception": false,
     "start_time": "2022-12-02T10:10:53.184050",
     "status": "completed"
    },
    "tags": []
   },
   "outputs": [],
   "source": [
    "#take train size to split test data from training data\n",
    "TRAIN_SIZE = 100_000"
   ]
  },
  {
   "cell_type": "code",
   "execution_count": 39,
   "id": "d33ba56b",
   "metadata": {
    "execution": {
     "iopub.execute_input": "2022-12-02T10:10:53.277322Z",
     "iopub.status.busy": "2022-12-02T10:10:53.276927Z",
     "iopub.status.idle": "2022-12-02T10:10:53.286413Z",
     "shell.execute_reply": "2022-12-02T10:10:53.285334Z"
    },
    "executionInfo": {
     "elapsed": 3,
     "status": "ok",
     "timestamp": 1668508954155,
     "user": {
      "displayName": "Aakash N S",
      "userId": "03254185060287524023"
     },
     "user_tz": -330
    },
    "id": "FnALsBHr4aQt",
    "papermill": {
     "duration": 0.040815,
     "end_time": "2022-12-02T10:10:53.288873",
     "exception": false,
     "start_time": "2022-12-02T10:10:53.248058",
     "status": "completed"
    },
    "tags": []
   },
   "outputs": [],
   "source": [
    "#creating inputs and targets for train data\n",
    "train_inputs = inputs[:TRAIN_SIZE]\n",
    "train_targets = train_df.Sentiment[:TRAIN_SIZE]"
   ]
  },
  {
   "cell_type": "code",
   "execution_count": 40,
   "id": "8541f7a9",
   "metadata": {
    "execution": {
     "iopub.execute_input": "2022-12-02T10:10:53.347688Z",
     "iopub.status.busy": "2022-12-02T10:10:53.347299Z",
     "iopub.status.idle": "2022-12-02T10:10:53.353772Z",
     "shell.execute_reply": "2022-12-02T10:10:53.352240Z"
    },
    "executionInfo": {
     "elapsed": 4,
     "status": "ok",
     "timestamp": 1668508971981,
     "user": {
      "displayName": "Aakash N S",
      "userId": "03254185060287524023"
     },
     "user_tz": -330
    },
    "id": "EF8dHyrF4S3R",
    "papermill": {
     "duration": 0.037656,
     "end_time": "2022-12-02T10:10:53.355907",
     "exception": false,
     "start_time": "2022-12-02T10:10:53.318251",
     "status": "completed"
    },
    "tags": []
   },
   "outputs": [
    {
     "data": {
      "text/plain": [
       "((100000, 2000), (100000,))"
      ]
     },
     "execution_count": 40,
     "metadata": {},
     "output_type": "execute_result"
    }
   ],
   "source": [
    "#checking the shape of targets to know the data range is samem or not\n",
    "train_inputs.shape,train_targets.shape"
   ]
  },
  {
   "cell_type": "code",
   "execution_count": 41,
   "id": "505296b1",
   "metadata": {
    "execution": {
     "iopub.execute_input": "2022-12-02T10:10:53.414143Z",
     "iopub.status.busy": "2022-12-02T10:10:53.413163Z",
     "iopub.status.idle": "2022-12-02T10:10:53.420703Z",
     "shell.execute_reply": "2022-12-02T10:10:53.419430Z"
    },
    "executionInfo": {
     "elapsed": 1,
     "status": "ok",
     "timestamp": 1668509072260,
     "user": {
      "displayName": "Aakash N S",
      "userId": "03254185060287524023"
     },
     "user_tz": -330
    },
    "id": "JXg0N5Tset2n",
    "papermill": {
     "duration": 0.039268,
     "end_time": "2022-12-02T10:10:53.423338",
     "exception": false,
     "start_time": "2022-12-02T10:10:53.384070",
     "status": "completed"
    },
    "tags": []
   },
   "outputs": [],
   "source": [
    "#creating inputs and targets for validation data\n",
    "val_inputs = inputs[TRAIN_SIZE:]\n",
    "val_targets = train_df.Sentiment[TRAIN_SIZE:]"
   ]
  },
  {
   "cell_type": "code",
   "execution_count": 42,
   "id": "a358cf47",
   "metadata": {
    "execution": {
     "iopub.execute_input": "2022-12-02T10:10:53.481379Z",
     "iopub.status.busy": "2022-12-02T10:10:53.480840Z",
     "iopub.status.idle": "2022-12-02T10:10:53.488587Z",
     "shell.execute_reply": "2022-12-02T10:10:53.487306Z"
    },
    "executionInfo": {
     "elapsed": 4,
     "status": "ok",
     "timestamp": 1668509088826,
     "user": {
      "displayName": "Aakash N S",
      "userId": "03254185060287524023"
     },
     "user_tz": -330
    },
    "id": "5-VO-Ad25CUt",
    "outputId": "110a7a06-f140-41b6-89bc-333442e70dc7",
    "papermill": {
     "duration": 0.039666,
     "end_time": "2022-12-02T10:10:53.490916",
     "exception": false,
     "start_time": "2022-12-02T10:10:53.451250",
     "status": "completed"
    },
    "tags": []
   },
   "outputs": [
    {
     "data": {
      "text/plain": [
       "((56060, 2000), (56060,))"
      ]
     },
     "execution_count": 42,
     "metadata": {},
     "output_type": "execute_result"
    }
   ],
   "source": [
    "#checking the shape of targets to know the data range is samem or not\n",
    "val_inputs.shape,val_targets.shape"
   ]
  },
  {
   "cell_type": "markdown",
   "id": "0ffc1d1c",
   "metadata": {
    "id": "DHoTrGTM5Bo9",
    "papermill": {
     "duration": 0.02891,
     "end_time": "2022-12-02T10:10:53.548551",
     "exception": false,
     "start_time": "2022-12-02T10:10:53.519641",
     "status": "completed"
    },
    "tags": []
   },
   "source": [
    "### Model-1 Logistic Regression Model\n",
    "\n"
   ]
  },
  {
   "cell_type": "code",
   "execution_count": 43,
   "id": "7b2bc487",
   "metadata": {
    "execution": {
     "iopub.execute_input": "2022-12-02T10:10:53.605811Z",
     "iopub.status.busy": "2022-12-02T10:10:53.605502Z",
     "iopub.status.idle": "2022-12-02T10:10:53.609892Z",
     "shell.execute_reply": "2022-12-02T10:10:53.608830Z"
    },
    "executionInfo": {
     "elapsed": 3,
     "status": "ok",
     "timestamp": 1668510390526,
     "user": {
      "displayName": "Aakash N S",
      "userId": "03254185060287524023"
     },
     "user_tz": -330
    },
    "id": "jEHCuRAt7swN",
    "papermill": {
     "duration": 0.035287,
     "end_time": "2022-12-02T10:10:53.611849",
     "exception": false,
     "start_time": "2022-12-02T10:10:53.576562",
     "status": "completed"
    },
    "tags": []
   },
   "outputs": [],
   "source": [
    "from sklearn.linear_model import LogisticRegression"
   ]
  },
  {
   "cell_type": "code",
   "execution_count": 44,
   "id": "9e85cf76",
   "metadata": {
    "execution": {
     "iopub.execute_input": "2022-12-02T10:10:53.669682Z",
     "iopub.status.busy": "2022-12-02T10:10:53.669334Z",
     "iopub.status.idle": "2022-12-02T10:10:53.674308Z",
     "shell.execute_reply": "2022-12-02T10:10:53.673210Z"
    },
    "executionInfo": {
     "elapsed": 2,
     "status": "ok",
     "timestamp": 1668510391231,
     "user": {
      "displayName": "Aakash N S",
      "userId": "03254185060287524023"
     },
     "user_tz": -330
    },
    "id": "7klXZoh-7st2",
    "papermill": {
     "duration": 0.036605,
     "end_time": "2022-12-02T10:10:53.676584",
     "exception": false,
     "start_time": "2022-12-02T10:10:53.639979",
     "status": "completed"
    },
    "tags": []
   },
   "outputs": [],
   "source": [
    "model = LogisticRegression()"
   ]
  },
  {
   "cell_type": "code",
   "execution_count": 45,
   "id": "4936cffb",
   "metadata": {
    "execution": {
     "iopub.execute_input": "2022-12-02T10:10:53.736063Z",
     "iopub.status.busy": "2022-12-02T10:10:53.735625Z",
     "iopub.status.idle": "2022-12-02T10:10:58.217534Z",
     "shell.execute_reply": "2022-12-02T10:10:58.216137Z"
    },
    "executionInfo": {
     "elapsed": 8452,
     "status": "ok",
     "timestamp": 1668510399682,
     "user": {
      "displayName": "Aakash N S",
      "userId": "03254185060287524023"
     },
     "user_tz": -330
    },
    "id": "THyNzV9J7srO",
    "outputId": "109428e1-caee-40f3-8a43-457554ac64c1",
    "papermill": {
     "duration": 4.514924,
     "end_time": "2022-12-02T10:10:58.220448",
     "exception": false,
     "start_time": "2022-12-02T10:10:53.705524",
     "status": "completed"
    },
    "tags": []
   },
   "outputs": [
    {
     "name": "stdout",
     "output_type": "stream",
     "text": [
      "CPU times: user 6.31 s, sys: 10.2 s, total: 16.5 s\n",
      "Wall time: 4.47 s\n"
     ]
    },
    {
     "name": "stderr",
     "output_type": "stream",
     "text": [
      "/opt/conda/lib/python3.7/site-packages/sklearn/linear_model/_logistic.py:818: ConvergenceWarning: lbfgs failed to converge (status=1):\n",
      "STOP: TOTAL NO. of ITERATIONS REACHED LIMIT.\n",
      "\n",
      "Increase the number of iterations (max_iter) or scale the data as shown in:\n",
      "    https://scikit-learn.org/stable/modules/preprocessing.html\n",
      "Please also refer to the documentation for alternative solver options:\n",
      "    https://scikit-learn.org/stable/modules/linear_model.html#logistic-regression\n",
      "  extra_warning_msg=_LOGISTIC_SOLVER_CONVERGENCE_MSG,\n"
     ]
    },
    {
     "data": {
      "text/plain": [
       "LogisticRegression()"
      ]
     },
     "execution_count": 45,
     "metadata": {},
     "output_type": "execute_result"
    }
   ],
   "source": [
    "%%time\n",
    "model.fit(train_inputs,train_targets)"
   ]
  },
  {
   "cell_type": "code",
   "execution_count": 46,
   "id": "344cc12c",
   "metadata": {
    "execution": {
     "iopub.execute_input": "2022-12-02T10:10:58.297289Z",
     "iopub.status.busy": "2022-12-02T10:10:58.296046Z",
     "iopub.status.idle": "2022-12-02T10:10:58.307337Z",
     "shell.execute_reply": "2022-12-02T10:10:58.306509Z"
    },
    "executionInfo": {
     "elapsed": 4,
     "status": "ok",
     "timestamp": 1668510401862,
     "user": {
      "displayName": "Aakash N S",
      "userId": "03254185060287524023"
     },
     "user_tz": -330
    },
    "id": "qQ0HAnwP8k1S",
    "papermill": {
     "duration": 0.052141,
     "end_time": "2022-12-02T10:10:58.309463",
     "exception": false,
     "start_time": "2022-12-02T10:10:58.257322",
     "status": "completed"
    },
    "tags": []
   },
   "outputs": [],
   "source": [
    "train_preds = model.predict(train_inputs)"
   ]
  },
  {
   "cell_type": "code",
   "execution_count": 47,
   "id": "ff31daeb",
   "metadata": {
    "execution": {
     "iopub.execute_input": "2022-12-02T10:10:58.370930Z",
     "iopub.status.busy": "2022-12-02T10:10:58.370569Z",
     "iopub.status.idle": "2022-12-02T10:10:58.377779Z",
     "shell.execute_reply": "2022-12-02T10:10:58.377132Z"
    },
    "executionInfo": {
     "elapsed": 4,
     "status": "ok",
     "timestamp": 1668510402306,
     "user": {
      "displayName": "Aakash N S",
      "userId": "03254185060287524023"
     },
     "user_tz": -330
    },
    "id": "TFXjhxfS70Ny",
    "outputId": "c027390d-7326-4450-b2ef-2fa20747641a",
    "papermill": {
     "duration": 0.039071,
     "end_time": "2022-12-02T10:10:58.380232",
     "exception": false,
     "start_time": "2022-12-02T10:10:58.341161",
     "status": "completed"
    },
    "tags": []
   },
   "outputs": [
    {
     "data": {
      "text/plain": [
       "0        1\n",
       "1        2\n",
       "2        2\n",
       "3        2\n",
       "4        2\n",
       "        ..\n",
       "99995    2\n",
       "99996    2\n",
       "99997    3\n",
       "99998    2\n",
       "99999    4\n",
       "Name: Sentiment, Length: 100000, dtype: int64"
      ]
     },
     "execution_count": 47,
     "metadata": {},
     "output_type": "execute_result"
    }
   ],
   "source": [
    "train_targets"
   ]
  },
  {
   "cell_type": "code",
   "execution_count": 48,
   "id": "e7448af0",
   "metadata": {
    "execution": {
     "iopub.execute_input": "2022-12-02T10:10:58.439936Z",
     "iopub.status.busy": "2022-12-02T10:10:58.439191Z",
     "iopub.status.idle": "2022-12-02T10:10:58.446256Z",
     "shell.execute_reply": "2022-12-02T10:10:58.444983Z"
    },
    "executionInfo": {
     "elapsed": 1,
     "status": "ok",
     "timestamp": 1668510404433,
     "user": {
      "displayName": "Aakash N S",
      "userId": "03254185060287524023"
     },
     "user_tz": -330
    },
    "id": "lT_-tby27so2",
    "outputId": "392bdec0-3853-42ba-b218-704cfbef3bb7",
    "papermill": {
     "duration": 0.039664,
     "end_time": "2022-12-02T10:10:58.449047",
     "exception": false,
     "start_time": "2022-12-02T10:10:58.409383",
     "status": "completed"
    },
    "tags": []
   },
   "outputs": [
    {
     "data": {
      "text/plain": [
       "array([3, 2, 2, ..., 1, 2, 2])"
      ]
     },
     "execution_count": 48,
     "metadata": {},
     "output_type": "execute_result"
    }
   ],
   "source": [
    "train_preds"
   ]
  },
  {
   "cell_type": "code",
   "execution_count": 49,
   "id": "37df8b39",
   "metadata": {
    "execution": {
     "iopub.execute_input": "2022-12-02T10:10:58.508224Z",
     "iopub.status.busy": "2022-12-02T10:10:58.507840Z",
     "iopub.status.idle": "2022-12-02T10:10:58.512815Z",
     "shell.execute_reply": "2022-12-02T10:10:58.511456Z"
    },
    "papermill": {
     "duration": 0.037876,
     "end_time": "2022-12-02T10:10:58.515807",
     "exception": false,
     "start_time": "2022-12-02T10:10:58.477931",
     "status": "completed"
    },
    "tags": []
   },
   "outputs": [],
   "source": [
    "from sklearn.metrics import accuracy_score"
   ]
  },
  {
   "cell_type": "code",
   "execution_count": 50,
   "id": "c2b3a371",
   "metadata": {
    "execution": {
     "iopub.execute_input": "2022-12-02T10:10:58.576463Z",
     "iopub.status.busy": "2022-12-02T10:10:58.576056Z",
     "iopub.status.idle": "2022-12-02T10:10:58.585461Z",
     "shell.execute_reply": "2022-12-02T10:10:58.584105Z"
    },
    "papermill": {
     "duration": 0.04232,
     "end_time": "2022-12-02T10:10:58.587634",
     "exception": false,
     "start_time": "2022-12-02T10:10:58.545314",
     "status": "completed"
    },
    "tags": []
   },
   "outputs": [
    {
     "name": "stdout",
     "output_type": "stream",
     "text": [
      "Accuracy Score of prediction on training data--> 0.64157\n"
     ]
    }
   ],
   "source": [
    "#accuracy of our prdictions\n",
    "print(\"Accuracy Score of prediction on training data-->\",accuracy_score(train_targets,train_preds))"
   ]
  },
  {
   "cell_type": "code",
   "execution_count": 51,
   "id": "92614209",
   "metadata": {
    "execution": {
     "iopub.execute_input": "2022-12-02T10:10:58.647527Z",
     "iopub.status.busy": "2022-12-02T10:10:58.647170Z",
     "iopub.status.idle": "2022-12-02T10:10:58.651496Z",
     "shell.execute_reply": "2022-12-02T10:10:58.650454Z"
    },
    "papermill": {
     "duration": 0.037018,
     "end_time": "2022-12-02T10:10:58.653498",
     "exception": false,
     "start_time": "2022-12-02T10:10:58.616480",
     "status": "completed"
    },
    "tags": []
   },
   "outputs": [],
   "source": [
    "from sklearn.metrics import confusion_matrix, ConfusionMatrixDisplay"
   ]
  },
  {
   "cell_type": "code",
   "execution_count": 52,
   "id": "348f251d",
   "metadata": {
    "execution": {
     "iopub.execute_input": "2022-12-02T10:10:58.713884Z",
     "iopub.status.busy": "2022-12-02T10:10:58.713536Z",
     "iopub.status.idle": "2022-12-02T10:10:58.721876Z",
     "shell.execute_reply": "2022-12-02T10:10:58.720908Z"
    },
    "papermill": {
     "duration": 0.041017,
     "end_time": "2022-12-02T10:10:58.723954",
     "exception": false,
     "start_time": "2022-12-02T10:10:58.682937",
     "status": "completed"
    },
    "tags": []
   },
   "outputs": [],
   "source": [
    "#try with test(validation) data\n",
    "val_pred_1 = model.predict(val_inputs)"
   ]
  },
  {
   "cell_type": "code",
   "execution_count": 53,
   "id": "1c3abec4",
   "metadata": {
    "execution": {
     "iopub.execute_input": "2022-12-02T10:10:58.783127Z",
     "iopub.status.busy": "2022-12-02T10:10:58.782757Z",
     "iopub.status.idle": "2022-12-02T10:10:58.790248Z",
     "shell.execute_reply": "2022-12-02T10:10:58.788948Z"
    },
    "papermill": {
     "duration": 0.04026,
     "end_time": "2022-12-02T10:10:58.792778",
     "exception": false,
     "start_time": "2022-12-02T10:10:58.752518",
     "status": "completed"
    },
    "tags": []
   },
   "outputs": [
    {
     "name": "stdout",
     "output_type": "stream",
     "text": [
      "Accuracy Score of prediction on validation data--> 0.5791473421334284\n"
     ]
    }
   ],
   "source": [
    "print(\"Accuracy Score of prediction on validation data-->\",accuracy_score(val_targets,val_pred_1))"
   ]
  },
  {
   "cell_type": "code",
   "execution_count": 54,
   "id": "637b4cf5",
   "metadata": {
    "execution": {
     "iopub.execute_input": "2022-12-02T10:10:58.851556Z",
     "iopub.status.busy": "2022-12-02T10:10:58.851186Z",
     "iopub.status.idle": "2022-12-02T10:10:58.912431Z",
     "shell.execute_reply": "2022-12-02T10:10:58.910804Z"
    },
    "papermill": {
     "duration": 0.093759,
     "end_time": "2022-12-02T10:10:58.915017",
     "exception": false,
     "start_time": "2022-12-02T10:10:58.821258",
     "status": "completed"
    },
    "tags": []
   },
   "outputs": [
    {
     "name": "stdout",
     "output_type": "stream",
     "text": [
      "              precision    recall  f1-score   support\n",
      "\n",
      "           0       0.39      0.10      0.16      2619\n",
      "           1       0.47      0.30      0.37     10342\n",
      "           2       0.63      0.85      0.72     27799\n",
      "           3       0.49      0.41      0.44     11835\n",
      "           4       0.52      0.16      0.25      3465\n",
      "\n",
      "    accuracy                           0.58     56060\n",
      "   macro avg       0.50      0.37      0.39     56060\n",
      "weighted avg       0.55      0.58      0.54     56060\n",
      "\n"
     ]
    }
   ],
   "source": [
    "#classificatiopn report for model predictions\n",
    "from sklearn.metrics import classification_report\n",
    "report = classification_report(val_targets,val_pred_1)\n",
    "print(report)"
   ]
  },
  {
   "cell_type": "markdown",
   "id": "c8493460",
   "metadata": {
    "id": "RS2HgpkL_J0G",
    "papermill": {
     "duration": 0.028252,
     "end_time": "2022-12-02T10:10:58.971743",
     "exception": false,
     "start_time": "2022-12-02T10:10:58.943491",
     "status": "completed"
    },
    "tags": []
   },
   "source": [
    "### Study Predictions on Sample Inputs"
   ]
  },
  {
   "cell_type": "code",
   "execution_count": 55,
   "id": "94163921",
   "metadata": {
    "execution": {
     "iopub.execute_input": "2022-12-02T10:10:59.032221Z",
     "iopub.status.busy": "2022-12-02T10:10:59.031812Z",
     "iopub.status.idle": "2022-12-02T10:10:59.041629Z",
     "shell.execute_reply": "2022-12-02T10:10:59.040301Z"
    },
    "executionInfo": {
     "elapsed": 3,
     "status": "ok",
     "timestamp": 1668510632344,
     "user": {
      "displayName": "Aakash N S",
      "userId": "03254185060287524023"
     },
     "user_tz": -330
    },
    "id": "Kvb-G3EU-3sD",
    "papermill": {
     "duration": 0.043043,
     "end_time": "2022-12-02T10:10:59.044032",
     "exception": false,
     "start_time": "2022-12-02T10:10:59.000989",
     "status": "completed"
    },
    "tags": []
   },
   "outputs": [],
   "source": [
    "small_df = train_df.sample(20)"
   ]
  },
  {
   "cell_type": "code",
   "execution_count": 56,
   "id": "ec1b1ea8",
   "metadata": {
    "execution": {
     "iopub.execute_input": "2022-12-02T10:10:59.104247Z",
     "iopub.status.busy": "2022-12-02T10:10:59.103890Z",
     "iopub.status.idle": "2022-12-02T10:10:59.115743Z",
     "shell.execute_reply": "2022-12-02T10:10:59.114823Z"
    },
    "executionInfo": {
     "elapsed": 3,
     "status": "ok",
     "timestamp": 1668510645810,
     "user": {
      "displayName": "Aakash N S",
      "userId": "03254185060287524023"
     },
     "user_tz": -330
    },
    "id": "96pSFU6Q-3m_",
    "outputId": "303853b4-9bd3-43cc-f027-2d806bc7917d",
    "papermill": {
     "duration": 0.044642,
     "end_time": "2022-12-02T10:10:59.117657",
     "exception": false,
     "start_time": "2022-12-02T10:10:59.073015",
     "status": "completed"
    },
    "tags": []
   },
   "outputs": [
    {
     "data": {
      "text/html": [
       "<div>\n",
       "<style scoped>\n",
       "    .dataframe tbody tr th:only-of-type {\n",
       "        vertical-align: middle;\n",
       "    }\n",
       "\n",
       "    .dataframe tbody tr th {\n",
       "        vertical-align: top;\n",
       "    }\n",
       "\n",
       "    .dataframe thead th {\n",
       "        text-align: right;\n",
       "    }\n",
       "</style>\n",
       "<table border=\"1\" class=\"dataframe\">\n",
       "  <thead>\n",
       "    <tr style=\"text-align: right;\">\n",
       "      <th></th>\n",
       "      <th>PhraseId</th>\n",
       "      <th>SentenceId</th>\n",
       "      <th>Phrase</th>\n",
       "      <th>Sentiment</th>\n",
       "    </tr>\n",
       "  </thead>\n",
       "  <tbody>\n",
       "    <tr>\n",
       "      <th>33905</th>\n",
       "      <td>33906</td>\n",
       "      <td>1591</td>\n",
       "      <td>worse than bland</td>\n",
       "      <td>0</td>\n",
       "    </tr>\n",
       "    <tr>\n",
       "      <th>112559</th>\n",
       "      <td>112560</td>\n",
       "      <td>5978</td>\n",
       "      <td>But the feelings evoked in the film are lukewa...</td>\n",
       "      <td>1</td>\n",
       "    </tr>\n",
       "    <tr>\n",
       "      <th>136869</th>\n",
       "      <td>136870</td>\n",
       "      <td>7402</td>\n",
       "      <td>does n't have the restraint to fully realize them</td>\n",
       "      <td>2</td>\n",
       "    </tr>\n",
       "    <tr>\n",
       "      <th>89994</th>\n",
       "      <td>89995</td>\n",
       "      <td>4682</td>\n",
       "      <td>before he croaks</td>\n",
       "      <td>2</td>\n",
       "    </tr>\n",
       "    <tr>\n",
       "      <th>87029</th>\n",
       "      <td>87030</td>\n",
       "      <td>4512</td>\n",
       "      <td>A few zingers aside</td>\n",
       "      <td>3</td>\n",
       "    </tr>\n",
       "    <tr>\n",
       "      <th>52184</th>\n",
       "      <td>52185</td>\n",
       "      <td>2578</td>\n",
       "      <td>jostling against farce , thoughtful dialogue e...</td>\n",
       "      <td>1</td>\n",
       "    </tr>\n",
       "    <tr>\n",
       "      <th>65194</th>\n",
       "      <td>65195</td>\n",
       "      <td>3300</td>\n",
       "      <td>Dark Water is n't a complete wash -LRB- no pun...</td>\n",
       "      <td>2</td>\n",
       "    </tr>\n",
       "    <tr>\n",
       "      <th>98213</th>\n",
       "      <td>98214</td>\n",
       "      <td>5146</td>\n",
       "      <td>to pose Madonna</td>\n",
       "      <td>2</td>\n",
       "    </tr>\n",
       "    <tr>\n",
       "      <th>144322</th>\n",
       "      <td>144323</td>\n",
       "      <td>7835</td>\n",
       "      <td>in the same old story</td>\n",
       "      <td>1</td>\n",
       "    </tr>\n",
       "    <tr>\n",
       "      <th>82987</th>\n",
       "      <td>82988</td>\n",
       "      <td>4284</td>\n",
       "      <td>of wit and dignity</td>\n",
       "      <td>3</td>\n",
       "    </tr>\n",
       "    <tr>\n",
       "      <th>122599</th>\n",
       "      <td>122600</td>\n",
       "      <td>6575</td>\n",
       "      <td>'s TV sitcom material at best</td>\n",
       "      <td>3</td>\n",
       "    </tr>\n",
       "    <tr>\n",
       "      <th>84479</th>\n",
       "      <td>84480</td>\n",
       "      <td>4370</td>\n",
       "      <td>seen this before</td>\n",
       "      <td>1</td>\n",
       "    </tr>\n",
       "    <tr>\n",
       "      <th>145160</th>\n",
       "      <td>145161</td>\n",
       "      <td>7887</td>\n",
       "      <td>The doofus-on - the-loose banter of Welcome to...</td>\n",
       "      <td>2</td>\n",
       "    </tr>\n",
       "    <tr>\n",
       "      <th>86975</th>\n",
       "      <td>86976</td>\n",
       "      <td>4509</td>\n",
       "      <td>as they may be , the cartoons look almost Shak...</td>\n",
       "      <td>1</td>\n",
       "    </tr>\n",
       "    <tr>\n",
       "      <th>123316</th>\n",
       "      <td>123317</td>\n",
       "      <td>6619</td>\n",
       "      <td>any of them list this ` credit ' on their resu...</td>\n",
       "      <td>1</td>\n",
       "    </tr>\n",
       "    <tr>\n",
       "      <th>67919</th>\n",
       "      <td>67920</td>\n",
       "      <td>3449</td>\n",
       "      <td>A sad and rote exercise in milking a played-ou...</td>\n",
       "      <td>1</td>\n",
       "    </tr>\n",
       "    <tr>\n",
       "      <th>15154</th>\n",
       "      <td>15155</td>\n",
       "      <td>652</td>\n",
       "      <td>All three actresses are simply dazzling , part...</td>\n",
       "      <td>4</td>\n",
       "    </tr>\n",
       "    <tr>\n",
       "      <th>134503</th>\n",
       "      <td>134504</td>\n",
       "      <td>7256</td>\n",
       "      <td>in the single digits</td>\n",
       "      <td>2</td>\n",
       "    </tr>\n",
       "    <tr>\n",
       "      <th>54353</th>\n",
       "      <td>54354</td>\n",
       "      <td>2701</td>\n",
       "      <td>low-key , 102-minute infomercial</td>\n",
       "      <td>1</td>\n",
       "    </tr>\n",
       "    <tr>\n",
       "      <th>35748</th>\n",
       "      <td>35749</td>\n",
       "      <td>1687</td>\n",
       "      <td>in its own aloof , unreachable way</td>\n",
       "      <td>2</td>\n",
       "    </tr>\n",
       "  </tbody>\n",
       "</table>\n",
       "</div>"
      ],
      "text/plain": [
       "        PhraseId  SentenceId  \\\n",
       "33905      33906        1591   \n",
       "112559    112560        5978   \n",
       "136869    136870        7402   \n",
       "89994      89995        4682   \n",
       "87029      87030        4512   \n",
       "52184      52185        2578   \n",
       "65194      65195        3300   \n",
       "98213      98214        5146   \n",
       "144322    144323        7835   \n",
       "82987      82988        4284   \n",
       "122599    122600        6575   \n",
       "84479      84480        4370   \n",
       "145160    145161        7887   \n",
       "86975      86976        4509   \n",
       "123316    123317        6619   \n",
       "67919      67920        3449   \n",
       "15154      15155         652   \n",
       "134503    134504        7256   \n",
       "54353      54354        2701   \n",
       "35748      35749        1687   \n",
       "\n",
       "                                                   Phrase  Sentiment  \n",
       "33905                                    worse than bland          0  \n",
       "112559  But the feelings evoked in the film are lukewa...          1  \n",
       "136869  does n't have the restraint to fully realize them          2  \n",
       "89994                                    before he croaks          2  \n",
       "87029                                 A few zingers aside          3  \n",
       "52184   jostling against farce , thoughtful dialogue e...          1  \n",
       "65194   Dark Water is n't a complete wash -LRB- no pun...          2  \n",
       "98213                                     to pose Madonna          2  \n",
       "144322                              in the same old story          1  \n",
       "82987                                  of wit and dignity          3  \n",
       "122599                      's TV sitcom material at best          3  \n",
       "84479                                    seen this before          1  \n",
       "145160  The doofus-on - the-loose banter of Welcome to...          2  \n",
       "86975   as they may be , the cartoons look almost Shak...          1  \n",
       "123316  any of them list this ` credit ' on their resu...          1  \n",
       "67919   A sad and rote exercise in milking a played-ou...          1  \n",
       "15154   All three actresses are simply dazzling , part...          4  \n",
       "134503                               in the single digits          2  \n",
       "54353                    low-key , 102-minute infomercial          1  \n",
       "35748                  in its own aloof , unreachable way          2  "
      ]
     },
     "execution_count": 56,
     "metadata": {},
     "output_type": "execute_result"
    }
   ],
   "source": [
    "small_df"
   ]
  },
  {
   "cell_type": "code",
   "execution_count": 57,
   "id": "4e23cee0",
   "metadata": {
    "execution": {
     "iopub.execute_input": "2022-12-02T10:10:59.178135Z",
     "iopub.status.busy": "2022-12-02T10:10:59.177761Z",
     "iopub.status.idle": "2022-12-02T10:10:59.190015Z",
     "shell.execute_reply": "2022-12-02T10:10:59.188950Z"
    },
    "executionInfo": {
     "elapsed": 2,
     "status": "ok",
     "timestamp": 1668511900843,
     "user": {
      "displayName": "Aakash N S",
      "userId": "03254185060287524023"
     },
     "user_tz": -330
    },
    "id": "FRlyVDpu_ARh",
    "papermill": {
     "duration": 0.044799,
     "end_time": "2022-12-02T10:10:59.191907",
     "exception": false,
     "start_time": "2022-12-02T10:10:59.147108",
     "status": "completed"
    },
    "tags": []
   },
   "outputs": [],
   "source": [
    "#transform small df into vectors\n",
    "small_inputs = vectorizer.transform(small_df.Phrase)"
   ]
  },
  {
   "cell_type": "code",
   "execution_count": 58,
   "id": "1d4ee24d",
   "metadata": {
    "execution": {
     "iopub.execute_input": "2022-12-02T10:10:59.251453Z",
     "iopub.status.busy": "2022-12-02T10:10:59.250511Z",
     "iopub.status.idle": "2022-12-02T10:10:59.256752Z",
     "shell.execute_reply": "2022-12-02T10:10:59.255601Z"
    },
    "executionInfo": {
     "elapsed": 2,
     "status": "ok",
     "timestamp": 1668511912243,
     "user": {
      "displayName": "Aakash N S",
      "userId": "03254185060287524023"
     },
     "user_tz": -330
    },
    "id": "SVX3fbskDyGs",
    "papermill": {
     "duration": 0.038128,
     "end_time": "2022-12-02T10:10:59.258807",
     "exception": false,
     "start_time": "2022-12-02T10:10:59.220679",
     "status": "completed"
    },
    "tags": []
   },
   "outputs": [],
   "source": [
    "small_preds = model.predict(small_inputs)"
   ]
  },
  {
   "cell_type": "code",
   "execution_count": 59,
   "id": "0d4a4dc5",
   "metadata": {
    "execution": {
     "iopub.execute_input": "2022-12-02T10:10:59.317908Z",
     "iopub.status.busy": "2022-12-02T10:10:59.317550Z",
     "iopub.status.idle": "2022-12-02T10:10:59.323940Z",
     "shell.execute_reply": "2022-12-02T10:10:59.323144Z"
    },
    "executionInfo": {
     "elapsed": 3,
     "status": "ok",
     "timestamp": 1668511934599,
     "user": {
      "displayName": "Aakash N S",
      "userId": "03254185060287524023"
     },
     "user_tz": -330
    },
    "id": "uUgkh-zfD1HI",
    "papermill": {
     "duration": 0.038337,
     "end_time": "2022-12-02T10:10:59.325682",
     "exception": false,
     "start_time": "2022-12-02T10:10:59.287345",
     "status": "completed"
    },
    "tags": []
   },
   "outputs": [
    {
     "data": {
      "text/plain": [
       "array([1, 2, 2, 2, 2, 1, 1, 2, 2, 2, 2, 2, 3, 1, 2, 1, 4, 2, 2, 2])"
      ]
     },
     "execution_count": 59,
     "metadata": {},
     "output_type": "execute_result"
    }
   ],
   "source": [
    "small_preds"
   ]
  },
  {
   "cell_type": "code",
   "execution_count": 60,
   "id": "6045f24f",
   "metadata": {
    "execution": {
     "iopub.execute_input": "2022-12-02T10:10:59.385236Z",
     "iopub.status.busy": "2022-12-02T10:10:59.384909Z",
     "iopub.status.idle": "2022-12-02T10:10:59.391718Z",
     "shell.execute_reply": "2022-12-02T10:10:59.390695Z"
    },
    "executionInfo": {
     "elapsed": 5,
     "status": "ok",
     "timestamp": 1668511937979,
     "user": {
      "displayName": "Aakash N S",
      "userId": "03254185060287524023"
     },
     "user_tz": -330
    },
    "id": "urtcbsfd_AO0",
    "outputId": "97a9b9bb-18bf-4969-f0aa-88433eaa9fa9",
    "papermill": {
     "duration": 0.038771,
     "end_time": "2022-12-02T10:10:59.393441",
     "exception": false,
     "start_time": "2022-12-02T10:10:59.354670",
     "status": "completed"
    },
    "tags": []
   },
   "outputs": [
    {
     "data": {
      "text/plain": [
       "33905     0\n",
       "112559    1\n",
       "136869    2\n",
       "89994     2\n",
       "87029     3\n",
       "52184     1\n",
       "65194     2\n",
       "98213     2\n",
       "144322    1\n",
       "82987     3\n",
       "122599    3\n",
       "84479     1\n",
       "145160    2\n",
       "86975     1\n",
       "123316    1\n",
       "67919     1\n",
       "15154     4\n",
       "134503    2\n",
       "54353     1\n",
       "35748     2\n",
       "Name: Sentiment, dtype: int64"
      ]
     },
     "execution_count": 60,
     "metadata": {},
     "output_type": "execute_result"
    }
   ],
   "source": [
    "small_df.Sentiment"
   ]
  },
  {
   "cell_type": "markdown",
   "id": "d889a275",
   "metadata": {
    "id": "HkiqfeBneyth",
    "papermill": {
     "duration": 0.029326,
     "end_time": "2022-12-02T10:10:59.451789",
     "exception": false,
     "start_time": "2022-12-02T10:10:59.422463",
     "status": "completed"
    },
    "tags": []
   },
   "source": [
    "### Make Predictions & Submit to Kaggle\n",
    "\n",
    "1. Make predictions on Test Dataset\n",
    "2. Generate & submit CSV on Kaggle\n",
    "3. Add screenshot of your score \n",
    "\n"
   ]
  },
  {
   "cell_type": "code",
   "execution_count": 61,
   "id": "05a17882",
   "metadata": {
    "execution": {
     "iopub.execute_input": "2022-12-02T10:10:59.511519Z",
     "iopub.status.busy": "2022-12-02T10:10:59.511079Z",
     "iopub.status.idle": "2022-12-02T10:10:59.522960Z",
     "shell.execute_reply": "2022-12-02T10:10:59.521682Z"
    },
    "executionInfo": {
     "elapsed": 446,
     "status": "ok",
     "timestamp": 1668512023300,
     "user": {
      "displayName": "Aakash N S",
      "userId": "03254185060287524023"
     },
     "user_tz": -330
    },
    "id": "RHfHJcBae4e3",
    "papermill": {
     "duration": 0.044774,
     "end_time": "2022-12-02T10:10:59.525514",
     "exception": false,
     "start_time": "2022-12-02T10:10:59.480740",
     "status": "completed"
    },
    "tags": []
   },
   "outputs": [
    {
     "data": {
      "text/plain": [
       "array([3, 2, 2, ..., 2, 2, 1])"
      ]
     },
     "execution_count": 61,
     "metadata": {},
     "output_type": "execute_result"
    }
   ],
   "source": [
    "test_preds = model.predict(test_inputs)\n",
    "test_preds"
   ]
  },
  {
   "cell_type": "code",
   "execution_count": 62,
   "id": "09db5536",
   "metadata": {
    "execution": {
     "iopub.execute_input": "2022-12-02T10:10:59.586797Z",
     "iopub.status.busy": "2022-12-02T10:10:59.586417Z",
     "iopub.status.idle": "2022-12-02T10:10:59.596400Z",
     "shell.execute_reply": "2022-12-02T10:10:59.595342Z"
    },
    "executionInfo": {
     "elapsed": 3,
     "status": "ok",
     "timestamp": 1668512069235,
     "user": {
      "displayName": "Aakash N S",
      "userId": "03254185060287524023"
     },
     "user_tz": -330
    },
    "id": "MHUHTmYxEHcV",
    "papermill": {
     "duration": 0.042892,
     "end_time": "2022-12-02T10:10:59.598356",
     "exception": false,
     "start_time": "2022-12-02T10:10:59.555464",
     "status": "completed"
    },
    "tags": []
   },
   "outputs": [
    {
     "data": {
      "text/html": [
       "<div>\n",
       "<style scoped>\n",
       "    .dataframe tbody tr th:only-of-type {\n",
       "        vertical-align: middle;\n",
       "    }\n",
       "\n",
       "    .dataframe tbody tr th {\n",
       "        vertical-align: top;\n",
       "    }\n",
       "\n",
       "    .dataframe thead th {\n",
       "        text-align: right;\n",
       "    }\n",
       "</style>\n",
       "<table border=\"1\" class=\"dataframe\">\n",
       "  <thead>\n",
       "    <tr style=\"text-align: right;\">\n",
       "      <th></th>\n",
       "      <th>PhraseId</th>\n",
       "      <th>Sentiment</th>\n",
       "    </tr>\n",
       "  </thead>\n",
       "  <tbody>\n",
       "    <tr>\n",
       "      <th>0</th>\n",
       "      <td>156061</td>\n",
       "      <td>2</td>\n",
       "    </tr>\n",
       "    <tr>\n",
       "      <th>1</th>\n",
       "      <td>156062</td>\n",
       "      <td>2</td>\n",
       "    </tr>\n",
       "    <tr>\n",
       "      <th>2</th>\n",
       "      <td>156063</td>\n",
       "      <td>2</td>\n",
       "    </tr>\n",
       "    <tr>\n",
       "      <th>3</th>\n",
       "      <td>156064</td>\n",
       "      <td>2</td>\n",
       "    </tr>\n",
       "    <tr>\n",
       "      <th>4</th>\n",
       "      <td>156065</td>\n",
       "      <td>2</td>\n",
       "    </tr>\n",
       "    <tr>\n",
       "      <th>...</th>\n",
       "      <td>...</td>\n",
       "      <td>...</td>\n",
       "    </tr>\n",
       "    <tr>\n",
       "      <th>66287</th>\n",
       "      <td>222348</td>\n",
       "      <td>2</td>\n",
       "    </tr>\n",
       "    <tr>\n",
       "      <th>66288</th>\n",
       "      <td>222349</td>\n",
       "      <td>2</td>\n",
       "    </tr>\n",
       "    <tr>\n",
       "      <th>66289</th>\n",
       "      <td>222350</td>\n",
       "      <td>2</td>\n",
       "    </tr>\n",
       "    <tr>\n",
       "      <th>66290</th>\n",
       "      <td>222351</td>\n",
       "      <td>2</td>\n",
       "    </tr>\n",
       "    <tr>\n",
       "      <th>66291</th>\n",
       "      <td>222352</td>\n",
       "      <td>2</td>\n",
       "    </tr>\n",
       "  </tbody>\n",
       "</table>\n",
       "<p>66292 rows × 2 columns</p>\n",
       "</div>"
      ],
      "text/plain": [
       "       PhraseId  Sentiment\n",
       "0        156061          2\n",
       "1        156062          2\n",
       "2        156063          2\n",
       "3        156064          2\n",
       "4        156065          2\n",
       "...         ...        ...\n",
       "66287    222348          2\n",
       "66288    222349          2\n",
       "66289    222350          2\n",
       "66290    222351          2\n",
       "66291    222352          2\n",
       "\n",
       "[66292 rows x 2 columns]"
      ]
     },
     "execution_count": 62,
     "metadata": {},
     "output_type": "execute_result"
    }
   ],
   "source": [
    "sub_df"
   ]
  },
  {
   "cell_type": "code",
   "execution_count": 63,
   "id": "94a319e0",
   "metadata": {
    "execution": {
     "iopub.execute_input": "2022-12-02T10:10:59.659312Z",
     "iopub.status.busy": "2022-12-02T10:10:59.658701Z",
     "iopub.status.idle": "2022-12-02T10:10:59.669464Z",
     "shell.execute_reply": "2022-12-02T10:10:59.668402Z"
    },
    "executionInfo": {
     "elapsed": 643,
     "status": "ok",
     "timestamp": 1668512085114,
     "user": {
      "displayName": "Aakash N S",
      "userId": "03254185060287524023"
     },
     "user_tz": -330
    },
    "id": "HOTojNcWEHZ7",
    "papermill": {
     "duration": 0.043821,
     "end_time": "2022-12-02T10:10:59.671585",
     "exception": false,
     "start_time": "2022-12-02T10:10:59.627764",
     "status": "completed"
    },
    "tags": []
   },
   "outputs": [
    {
     "data": {
      "text/html": [
       "<div>\n",
       "<style scoped>\n",
       "    .dataframe tbody tr th:only-of-type {\n",
       "        vertical-align: middle;\n",
       "    }\n",
       "\n",
       "    .dataframe tbody tr th {\n",
       "        vertical-align: top;\n",
       "    }\n",
       "\n",
       "    .dataframe thead th {\n",
       "        text-align: right;\n",
       "    }\n",
       "</style>\n",
       "<table border=\"1\" class=\"dataframe\">\n",
       "  <thead>\n",
       "    <tr style=\"text-align: right;\">\n",
       "      <th></th>\n",
       "      <th>PhraseId</th>\n",
       "      <th>Sentiment</th>\n",
       "    </tr>\n",
       "  </thead>\n",
       "  <tbody>\n",
       "    <tr>\n",
       "      <th>0</th>\n",
       "      <td>156061</td>\n",
       "      <td>3</td>\n",
       "    </tr>\n",
       "    <tr>\n",
       "      <th>1</th>\n",
       "      <td>156062</td>\n",
       "      <td>2</td>\n",
       "    </tr>\n",
       "    <tr>\n",
       "      <th>2</th>\n",
       "      <td>156063</td>\n",
       "      <td>2</td>\n",
       "    </tr>\n",
       "    <tr>\n",
       "      <th>3</th>\n",
       "      <td>156064</td>\n",
       "      <td>2</td>\n",
       "    </tr>\n",
       "    <tr>\n",
       "      <th>4</th>\n",
       "      <td>156065</td>\n",
       "      <td>2</td>\n",
       "    </tr>\n",
       "    <tr>\n",
       "      <th>...</th>\n",
       "      <td>...</td>\n",
       "      <td>...</td>\n",
       "    </tr>\n",
       "    <tr>\n",
       "      <th>66287</th>\n",
       "      <td>222348</td>\n",
       "      <td>1</td>\n",
       "    </tr>\n",
       "    <tr>\n",
       "      <th>66288</th>\n",
       "      <td>222349</td>\n",
       "      <td>1</td>\n",
       "    </tr>\n",
       "    <tr>\n",
       "      <th>66289</th>\n",
       "      <td>222350</td>\n",
       "      <td>2</td>\n",
       "    </tr>\n",
       "    <tr>\n",
       "      <th>66290</th>\n",
       "      <td>222351</td>\n",
       "      <td>2</td>\n",
       "    </tr>\n",
       "    <tr>\n",
       "      <th>66291</th>\n",
       "      <td>222352</td>\n",
       "      <td>1</td>\n",
       "    </tr>\n",
       "  </tbody>\n",
       "</table>\n",
       "<p>66292 rows × 2 columns</p>\n",
       "</div>"
      ],
      "text/plain": [
       "       PhraseId  Sentiment\n",
       "0        156061          3\n",
       "1        156062          2\n",
       "2        156063          2\n",
       "3        156064          2\n",
       "4        156065          2\n",
       "...         ...        ...\n",
       "66287    222348          1\n",
       "66288    222349          1\n",
       "66289    222350          2\n",
       "66290    222351          2\n",
       "66291    222352          1\n",
       "\n",
       "[66292 rows x 2 columns]"
      ]
     },
     "execution_count": 63,
     "metadata": {},
     "output_type": "execute_result"
    }
   ],
   "source": [
    "sub_df.Sentiment = test_preds\n",
    "sub_df"
   ]
  },
  {
   "cell_type": "code",
   "execution_count": 64,
   "id": "f4a19e15",
   "metadata": {
    "execution": {
     "iopub.execute_input": "2022-12-02T10:10:59.732251Z",
     "iopub.status.busy": "2022-12-02T10:10:59.731880Z",
     "iopub.status.idle": "2022-12-02T10:10:59.794566Z",
     "shell.execute_reply": "2022-12-02T10:10:59.793273Z"
    },
    "papermill": {
     "duration": 0.096267,
     "end_time": "2022-12-02T10:10:59.797197",
     "exception": false,
     "start_time": "2022-12-02T10:10:59.700930",
     "status": "completed"
    },
    "tags": []
   },
   "outputs": [],
   "source": [
    "sub_df.to_csv('submission_logisticRegression.csv',index=None)"
   ]
  },
  {
   "cell_type": "code",
   "execution_count": 65,
   "id": "c5485739",
   "metadata": {
    "execution": {
     "iopub.execute_input": "2022-12-02T10:10:59.858200Z",
     "iopub.status.busy": "2022-12-02T10:10:59.857819Z",
     "iopub.status.idle": "2022-12-02T10:10:59.920123Z",
     "shell.execute_reply": "2022-12-02T10:10:59.918696Z"
    },
    "papermill": {
     "duration": 0.095969,
     "end_time": "2022-12-02T10:10:59.922694",
     "exception": false,
     "start_time": "2022-12-02T10:10:59.826725",
     "status": "completed"
    },
    "tags": []
   },
   "outputs": [],
   "source": [
    "sub_df.to_csv('submission.csv',index=None)"
   ]
  },
  {
   "cell_type": "code",
   "execution_count": 66,
   "id": "3458f752",
   "metadata": {
    "execution": {
     "iopub.execute_input": "2022-12-02T10:10:59.983374Z",
     "iopub.status.busy": "2022-12-02T10:10:59.982998Z",
     "iopub.status.idle": "2022-12-02T10:11:00.268010Z",
     "shell.execute_reply": "2022-12-02T10:11:00.266750Z"
    },
    "papermill": {
     "duration": 0.318162,
     "end_time": "2022-12-02T10:11:00.270450",
     "exception": false,
     "start_time": "2022-12-02T10:10:59.952288",
     "status": "completed"
    },
    "tags": []
   },
   "outputs": [
    {
     "name": "stdout",
     "output_type": "stream",
     "text": [
      "PhraseId,Sentiment\r\n",
      "156061,3\r\n",
      "156062,2\r\n",
      "156063,2\r\n",
      "156064,2\r\n",
      "156065,2\r\n",
      "156066,3\r\n",
      "156067,3\r\n",
      "156068,2\r\n",
      "156069,3\r\n"
     ]
    }
   ],
   "source": [
    "!head submission_logisticRegression.csv"
   ]
  },
  {
   "cell_type": "markdown",
   "id": "7959c18b",
   "metadata": {
    "id": "8kne2rQq8qL0",
    "papermill": {
     "duration": 0.029848,
     "end_time": "2022-12-02T10:11:00.330140",
     "exception": false,
     "start_time": "2022-12-02T10:11:00.300292",
     "status": "completed"
    },
    "tags": []
   },
   "source": [
    "## Train & Finetune Different ML Models\n",
    "\n",
    "Train & finetune 2 other types of models"
   ]
  },
  {
   "cell_type": "markdown",
   "id": "eefc97b0",
   "metadata": {
    "papermill": {
     "duration": 0.029546,
     "end_time": "2022-12-02T10:11:00.389416",
     "exception": false,
     "start_time": "2022-12-02T10:11:00.359870",
     "status": "completed"
    },
    "tags": []
   },
   "source": [
    "### Model-2 --> Decision Trees Model"
   ]
  },
  {
   "cell_type": "code",
   "execution_count": 67,
   "id": "a63c3706",
   "metadata": {
    "execution": {
     "iopub.execute_input": "2022-12-02T10:11:00.451290Z",
     "iopub.status.busy": "2022-12-02T10:11:00.450894Z",
     "iopub.status.idle": "2022-12-02T10:11:00.532996Z",
     "shell.execute_reply": "2022-12-02T10:11:00.531367Z"
    },
    "executionInfo": {
     "elapsed": 583,
     "status": "ok",
     "timestamp": 1668510812072,
     "user": {
      "displayName": "Aakash N S",
      "userId": "03254185060287524023"
     },
     "user_tz": -330
    },
    "id": "kN-yZN12e4Yz",
    "papermill": {
     "duration": 0.116057,
     "end_time": "2022-12-02T10:11:00.535569",
     "exception": false,
     "start_time": "2022-12-02T10:11:00.419512",
     "status": "completed"
    },
    "tags": []
   },
   "outputs": [],
   "source": [
    "from sklearn import tree"
   ]
  },
  {
   "cell_type": "code",
   "execution_count": 68,
   "id": "8bbf368f",
   "metadata": {
    "execution": {
     "iopub.execute_input": "2022-12-02T10:11:00.597316Z",
     "iopub.status.busy": "2022-12-02T10:11:00.596913Z",
     "iopub.status.idle": "2022-12-02T10:11:00.602616Z",
     "shell.execute_reply": "2022-12-02T10:11:00.601311Z"
    },
    "executionInfo": {
     "elapsed": 4,
     "status": "ok",
     "timestamp": 1668511791217,
     "user": {
      "displayName": "Aakash N S",
      "userId": "03254185060287524023"
     },
     "user_tz": -330
    },
    "id": "X8f6t6wge4WV",
    "papermill": {
     "duration": 0.039872,
     "end_time": "2022-12-02T10:11:00.605298",
     "exception": false,
     "start_time": "2022-12-02T10:11:00.565426",
     "status": "completed"
    },
    "tags": []
   },
   "outputs": [],
   "source": [
    "model_2 = tree.DecisionTreeClassifier()"
   ]
  },
  {
   "cell_type": "code",
   "execution_count": 69,
   "id": "4084cd5d",
   "metadata": {
    "execution": {
     "iopub.execute_input": "2022-12-02T10:11:00.667565Z",
     "iopub.status.busy": "2022-12-02T10:11:00.667195Z",
     "iopub.status.idle": "2022-12-02T10:11:17.542292Z",
     "shell.execute_reply": "2022-12-02T10:11:17.540944Z"
    },
    "executionInfo": {
     "elapsed": 17010,
     "status": "ok",
     "timestamp": 1668511827707,
     "user": {
      "displayName": "Aakash N S",
      "userId": "03254185060287524023"
     },
     "user_tz": -330
    },
    "id": "lig2PXUCAfqF",
    "outputId": "87e28c26-6f7f-408d-8e8d-20e257df2ff2",
    "papermill": {
     "duration": 16.908642,
     "end_time": "2022-12-02T10:11:17.544543",
     "exception": false,
     "start_time": "2022-12-02T10:11:00.635901",
     "status": "completed"
    },
    "tags": []
   },
   "outputs": [
    {
     "data": {
      "text/plain": [
       "DecisionTreeClassifier()"
      ]
     },
     "execution_count": 69,
     "metadata": {},
     "output_type": "execute_result"
    }
   ],
   "source": [
    "model_2.fit(train_inputs, train_targets)"
   ]
  },
  {
   "cell_type": "code",
   "execution_count": 70,
   "id": "30505996",
   "metadata": {
    "execution": {
     "iopub.execute_input": "2022-12-02T10:11:17.605387Z",
     "iopub.status.busy": "2022-12-02T10:11:17.605015Z",
     "iopub.status.idle": "2022-12-02T10:11:17.805080Z",
     "shell.execute_reply": "2022-12-02T10:11:17.803918Z"
    },
    "papermill": {
     "duration": 0.233229,
     "end_time": "2022-12-02T10:11:17.807477",
     "exception": false,
     "start_time": "2022-12-02T10:11:17.574248",
     "status": "completed"
    },
    "tags": []
   },
   "outputs": [],
   "source": [
    "train_pred_2 = model_2.predict(train_inputs)"
   ]
  },
  {
   "cell_type": "code",
   "execution_count": 71,
   "id": "cb1638d8",
   "metadata": {
    "execution": {
     "iopub.execute_input": "2022-12-02T10:11:17.868686Z",
     "iopub.status.busy": "2022-12-02T10:11:17.868302Z",
     "iopub.status.idle": "2022-12-02T10:11:17.877345Z",
     "shell.execute_reply": "2022-12-02T10:11:17.875867Z"
    },
    "papermill": {
     "duration": 0.043306,
     "end_time": "2022-12-02T10:11:17.880238",
     "exception": false,
     "start_time": "2022-12-02T10:11:17.836932",
     "status": "completed"
    },
    "tags": []
   },
   "outputs": [
    {
     "data": {
      "text/plain": [
       "0        1\n",
       "1        2\n",
       "2        2\n",
       "3        2\n",
       "4        2\n",
       "        ..\n",
       "99995    2\n",
       "99996    2\n",
       "99997    3\n",
       "99998    2\n",
       "99999    4\n",
       "Name: Sentiment, Length: 100000, dtype: int64"
      ]
     },
     "execution_count": 71,
     "metadata": {},
     "output_type": "execute_result"
    }
   ],
   "source": [
    "train_targets"
   ]
  },
  {
   "cell_type": "code",
   "execution_count": 72,
   "id": "06647fdf",
   "metadata": {
    "execution": {
     "iopub.execute_input": "2022-12-02T10:11:17.942801Z",
     "iopub.status.busy": "2022-12-02T10:11:17.942442Z",
     "iopub.status.idle": "2022-12-02T10:11:17.949042Z",
     "shell.execute_reply": "2022-12-02T10:11:17.948231Z"
    },
    "papermill": {
     "duration": 0.039757,
     "end_time": "2022-12-02T10:11:17.950811",
     "exception": false,
     "start_time": "2022-12-02T10:11:17.911054",
     "status": "completed"
    },
    "tags": []
   },
   "outputs": [
    {
     "data": {
      "text/plain": [
       "array([1, 2, 2, ..., 3, 2, 2])"
      ]
     },
     "execution_count": 72,
     "metadata": {},
     "output_type": "execute_result"
    }
   ],
   "source": [
    "train_pred_2"
   ]
  },
  {
   "cell_type": "code",
   "execution_count": 73,
   "id": "23b4100a",
   "metadata": {
    "execution": {
     "iopub.execute_input": "2022-12-02T10:11:18.012889Z",
     "iopub.status.busy": "2022-12-02T10:11:18.012537Z",
     "iopub.status.idle": "2022-12-02T10:11:18.022571Z",
     "shell.execute_reply": "2022-12-02T10:11:18.021054Z"
    },
    "papermill": {
     "duration": 0.044244,
     "end_time": "2022-12-02T10:11:18.024959",
     "exception": false,
     "start_time": "2022-12-02T10:11:17.980715",
     "status": "completed"
    },
    "tags": []
   },
   "outputs": [
    {
     "name": "stdout",
     "output_type": "stream",
     "text": [
      "Accuracy Score of prediction on Training data--> 0.83039\n"
     ]
    }
   ],
   "source": [
    "print(\"Accuracy Score of prediction on Training data-->\",accuracy_score(train_targets,train_pred_2))"
   ]
  },
  {
   "cell_type": "code",
   "execution_count": 74,
   "id": "2606c240",
   "metadata": {
    "execution": {
     "iopub.execute_input": "2022-12-02T10:11:18.092794Z",
     "iopub.status.busy": "2022-12-02T10:11:18.092352Z",
     "iopub.status.idle": "2022-12-02T10:11:18.201369Z",
     "shell.execute_reply": "2022-12-02T10:11:18.198802Z"
    },
    "papermill": {
     "duration": 0.149096,
     "end_time": "2022-12-02T10:11:18.204317",
     "exception": false,
     "start_time": "2022-12-02T10:11:18.055221",
     "status": "completed"
    },
    "tags": []
   },
   "outputs": [
    {
     "name": "stdout",
     "output_type": "stream",
     "text": [
      "              precision    recall  f1-score   support\n",
      "\n",
      "           0       0.78      0.84      0.81      4453\n",
      "           1       0.82      0.72      0.76     16931\n",
      "           2       0.82      0.94      0.87     51783\n",
      "           3       0.87      0.70      0.77     21092\n",
      "           4       0.95      0.68      0.79      5741\n",
      "\n",
      "    accuracy                           0.83    100000\n",
      "   macro avg       0.85      0.77      0.80    100000\n",
      "weighted avg       0.84      0.83      0.83    100000\n",
      "\n"
     ]
    }
   ],
   "source": [
    "#classificatiopn report for model predictions\n",
    "report = classification_report(train_targets,train_pred_2)\n",
    "print(report)"
   ]
  },
  {
   "cell_type": "code",
   "execution_count": 75,
   "id": "64e9f646",
   "metadata": {
    "execution": {
     "iopub.execute_input": "2022-12-02T10:11:18.267339Z",
     "iopub.status.busy": "2022-12-02T10:11:18.266947Z",
     "iopub.status.idle": "2022-12-02T10:11:18.376457Z",
     "shell.execute_reply": "2022-12-02T10:11:18.375443Z"
    },
    "papermill": {
     "duration": 0.143555,
     "end_time": "2022-12-02T10:11:18.378445",
     "exception": false,
     "start_time": "2022-12-02T10:11:18.234890",
     "status": "completed"
    },
    "tags": []
   },
   "outputs": [
    {
     "data": {
      "text/plain": [
       "array([1, 1, 2, ..., 2, 2, 2])"
      ]
     },
     "execution_count": 75,
     "metadata": {},
     "output_type": "execute_result"
    }
   ],
   "source": [
    "val_pred_2 = model_2.predict(val_inputs)\n",
    "val_pred_2 "
   ]
  },
  {
   "cell_type": "code",
   "execution_count": 76,
   "id": "6a9e6441",
   "metadata": {
    "execution": {
     "iopub.execute_input": "2022-12-02T10:11:18.441473Z",
     "iopub.status.busy": "2022-12-02T10:11:18.441149Z",
     "iopub.status.idle": "2022-12-02T10:11:18.449514Z",
     "shell.execute_reply": "2022-12-02T10:11:18.447577Z"
    },
    "papermill": {
     "duration": 0.043482,
     "end_time": "2022-12-02T10:11:18.452366",
     "exception": false,
     "start_time": "2022-12-02T10:11:18.408884",
     "status": "completed"
    },
    "tags": []
   },
   "outputs": [
    {
     "name": "stdout",
     "output_type": "stream",
     "text": [
      "Accuracy Score of prediction on validation data--> 0.5182126293257224\n"
     ]
    }
   ],
   "source": [
    "print(\"Accuracy Score of prediction on validation data-->\",accuracy_score(val_targets,val_pred_2))"
   ]
  },
  {
   "cell_type": "code",
   "execution_count": 77,
   "id": "e5851bf3",
   "metadata": {
    "execution": {
     "iopub.execute_input": "2022-12-02T10:11:18.515433Z",
     "iopub.status.busy": "2022-12-02T10:11:18.515072Z",
     "iopub.status.idle": "2022-12-02T10:11:18.661782Z",
     "shell.execute_reply": "2022-12-02T10:11:18.660587Z"
    },
    "papermill": {
     "duration": 0.181689,
     "end_time": "2022-12-02T10:11:18.664490",
     "exception": false,
     "start_time": "2022-12-02T10:11:18.482801",
     "status": "completed"
    },
    "tags": []
   },
   "outputs": [
    {
     "data": {
      "text/plain": [
       "array([2, 2, 2, ..., 2, 2, 1])"
      ]
     },
     "execution_count": 77,
     "metadata": {},
     "output_type": "execute_result"
    }
   ],
   "source": [
    "test_preds_2 = model_2.predict(test_inputs)\n",
    "test_preds_2"
   ]
  },
  {
   "cell_type": "code",
   "execution_count": 78,
   "id": "fd710674",
   "metadata": {
    "execution": {
     "iopub.execute_input": "2022-12-02T10:11:18.728071Z",
     "iopub.status.busy": "2022-12-02T10:11:18.727704Z",
     "iopub.status.idle": "2022-12-02T10:11:18.740995Z",
     "shell.execute_reply": "2022-12-02T10:11:18.739952Z"
    },
    "papermill": {
     "duration": 0.04733,
     "end_time": "2022-12-02T10:11:18.742841",
     "exception": false,
     "start_time": "2022-12-02T10:11:18.695511",
     "status": "completed"
    },
    "tags": []
   },
   "outputs": [
    {
     "data": {
      "text/html": [
       "<div>\n",
       "<style scoped>\n",
       "    .dataframe tbody tr th:only-of-type {\n",
       "        vertical-align: middle;\n",
       "    }\n",
       "\n",
       "    .dataframe tbody tr th {\n",
       "        vertical-align: top;\n",
       "    }\n",
       "\n",
       "    .dataframe thead th {\n",
       "        text-align: right;\n",
       "    }\n",
       "</style>\n",
       "<table border=\"1\" class=\"dataframe\">\n",
       "  <thead>\n",
       "    <tr style=\"text-align: right;\">\n",
       "      <th></th>\n",
       "      <th>PhraseId</th>\n",
       "      <th>Sentiment</th>\n",
       "    </tr>\n",
       "  </thead>\n",
       "  <tbody>\n",
       "    <tr>\n",
       "      <th>0</th>\n",
       "      <td>156061</td>\n",
       "      <td>2</td>\n",
       "    </tr>\n",
       "    <tr>\n",
       "      <th>1</th>\n",
       "      <td>156062</td>\n",
       "      <td>2</td>\n",
       "    </tr>\n",
       "    <tr>\n",
       "      <th>2</th>\n",
       "      <td>156063</td>\n",
       "      <td>2</td>\n",
       "    </tr>\n",
       "    <tr>\n",
       "      <th>3</th>\n",
       "      <td>156064</td>\n",
       "      <td>2</td>\n",
       "    </tr>\n",
       "    <tr>\n",
       "      <th>4</th>\n",
       "      <td>156065</td>\n",
       "      <td>2</td>\n",
       "    </tr>\n",
       "    <tr>\n",
       "      <th>...</th>\n",
       "      <td>...</td>\n",
       "      <td>...</td>\n",
       "    </tr>\n",
       "    <tr>\n",
       "      <th>66287</th>\n",
       "      <td>222348</td>\n",
       "      <td>1</td>\n",
       "    </tr>\n",
       "    <tr>\n",
       "      <th>66288</th>\n",
       "      <td>222349</td>\n",
       "      <td>1</td>\n",
       "    </tr>\n",
       "    <tr>\n",
       "      <th>66289</th>\n",
       "      <td>222350</td>\n",
       "      <td>2</td>\n",
       "    </tr>\n",
       "    <tr>\n",
       "      <th>66290</th>\n",
       "      <td>222351</td>\n",
       "      <td>2</td>\n",
       "    </tr>\n",
       "    <tr>\n",
       "      <th>66291</th>\n",
       "      <td>222352</td>\n",
       "      <td>1</td>\n",
       "    </tr>\n",
       "  </tbody>\n",
       "</table>\n",
       "<p>66292 rows × 2 columns</p>\n",
       "</div>"
      ],
      "text/plain": [
       "       PhraseId  Sentiment\n",
       "0        156061          2\n",
       "1        156062          2\n",
       "2        156063          2\n",
       "3        156064          2\n",
       "4        156065          2\n",
       "...         ...        ...\n",
       "66287    222348          1\n",
       "66288    222349          1\n",
       "66289    222350          2\n",
       "66290    222351          2\n",
       "66291    222352          1\n",
       "\n",
       "[66292 rows x 2 columns]"
      ]
     },
     "execution_count": 78,
     "metadata": {},
     "output_type": "execute_result"
    }
   ],
   "source": [
    "sub_df.Sentiment = test_preds_2\n",
    "sub_df"
   ]
  },
  {
   "cell_type": "code",
   "execution_count": 79,
   "id": "00186921",
   "metadata": {
    "execution": {
     "iopub.execute_input": "2022-12-02T10:11:18.805946Z",
     "iopub.status.busy": "2022-12-02T10:11:18.805568Z",
     "iopub.status.idle": "2022-12-02T10:11:18.869077Z",
     "shell.execute_reply": "2022-12-02T10:11:18.867515Z"
    },
    "papermill": {
     "duration": 0.09857,
     "end_time": "2022-12-02T10:11:18.871955",
     "exception": false,
     "start_time": "2022-12-02T10:11:18.773385",
     "status": "completed"
    },
    "tags": []
   },
   "outputs": [],
   "source": [
    "sub_df.to_csv('submission_Decision_Trees.csv',index=None)"
   ]
  },
  {
   "cell_type": "code",
   "execution_count": 80,
   "id": "bd39daad",
   "metadata": {
    "execution": {
     "iopub.execute_input": "2022-12-02T10:11:18.937775Z",
     "iopub.status.busy": "2022-12-02T10:11:18.935399Z",
     "iopub.status.idle": "2022-12-02T10:11:19.220944Z",
     "shell.execute_reply": "2022-12-02T10:11:19.219466Z"
    },
    "executionInfo": {
     "elapsed": 1284,
     "status": "ok",
     "timestamp": 1668511837459,
     "user": {
      "displayName": "Aakash N S",
      "userId": "03254185060287524023"
     },
     "user_tz": -330
    },
    "id": "tExMdRaEBu5E",
    "outputId": "6f31bc9d-85a7-4e04-c98e-8bb566b73178",
    "papermill": {
     "duration": 0.32011,
     "end_time": "2022-12-02T10:11:19.223446",
     "exception": false,
     "start_time": "2022-12-02T10:11:18.903336",
     "status": "completed"
    },
    "tags": []
   },
   "outputs": [
    {
     "name": "stdout",
     "output_type": "stream",
     "text": [
      "PhraseId,Sentiment\r\n",
      "156061,2\r\n",
      "156062,2\r\n",
      "156063,2\r\n",
      "156064,2\r\n",
      "156065,2\r\n",
      "156066,2\r\n",
      "156067,2\r\n",
      "156068,2\r\n",
      "156069,2\r\n"
     ]
    }
   ],
   "source": [
    "!head submission_Decision_Trees.csv"
   ]
  },
  {
   "cell_type": "markdown",
   "id": "8b6ce7ce",
   "metadata": {
    "executionInfo": {
     "elapsed": 9,
     "status": "ok",
     "timestamp": 1668512360083,
     "user": {
      "displayName": "Aakash N S",
      "userId": "03254185060287524023"
     },
     "user_tz": -330
    },
    "id": "S8WnmO8SDopQ",
    "outputId": "ad27a3ba-b6e9-4675-9b20-0e338f3fcf8d",
    "papermill": {
     "duration": 0.031134,
     "end_time": "2022-12-02T10:11:19.285889",
     "exception": false,
     "start_time": "2022-12-02T10:11:19.254755",
     "status": "completed"
    },
    "tags": []
   },
   "source": [
    "### Model-3 --> Naive bayes classifier"
   ]
  },
  {
   "cell_type": "code",
   "execution_count": 81,
   "id": "9b262bbf",
   "metadata": {
    "execution": {
     "iopub.execute_input": "2022-12-02T10:11:19.349437Z",
     "iopub.status.busy": "2022-12-02T10:11:19.349010Z",
     "iopub.status.idle": "2022-12-02T10:11:19.373976Z",
     "shell.execute_reply": "2022-12-02T10:11:19.373061Z"
    },
    "papermill": {
     "duration": 0.05922,
     "end_time": "2022-12-02T10:11:19.376359",
     "exception": false,
     "start_time": "2022-12-02T10:11:19.317139",
     "status": "completed"
    },
    "tags": []
   },
   "outputs": [],
   "source": [
    "#split data for naive b \n",
    "from sklearn.model_selection import train_test_split\n",
    "train_inputs_nb, val_inputs_nb, train_targets_nb, val_targets_nb = train_test_split(inputs, train_df['Sentiment'], test_size=0.25, random_state=5)"
   ]
  },
  {
   "cell_type": "code",
   "execution_count": 82,
   "id": "c5c7312f",
   "metadata": {
    "execution": {
     "iopub.execute_input": "2022-12-02T10:11:19.441075Z",
     "iopub.status.busy": "2022-12-02T10:11:19.440736Z",
     "iopub.status.idle": "2022-12-02T10:11:19.447267Z",
     "shell.execute_reply": "2022-12-02T10:11:19.446436Z"
    },
    "executionInfo": {
     "elapsed": 4,
     "status": "ok",
     "timestamp": 1668512360083,
     "user": {
      "displayName": "Aakash N S",
      "userId": "03254185060287524023"
     },
     "user_tz": -330
    },
    "id": "FuRhZQJqDomm",
    "outputId": "f733dd6c-0f90-4c72-8add-e3d31595a371",
    "papermill": {
     "duration": 0.040953,
     "end_time": "2022-12-02T10:11:19.449699",
     "exception": false,
     "start_time": "2022-12-02T10:11:19.408746",
     "status": "completed"
    },
    "tags": []
   },
   "outputs": [],
   "source": [
    "#using Naive bayes classifier for prediction\n",
    "from sklearn.naive_bayes import MultinomialNB"
   ]
  },
  {
   "cell_type": "code",
   "execution_count": 83,
   "id": "9f4a3844",
   "metadata": {
    "execution": {
     "iopub.execute_input": "2022-12-02T10:11:19.514430Z",
     "iopub.status.busy": "2022-12-02T10:11:19.514066Z",
     "iopub.status.idle": "2022-12-02T10:11:19.518784Z",
     "shell.execute_reply": "2022-12-02T10:11:19.517430Z"
    },
    "id": "1FyiLUvLDojw",
    "papermill": {
     "duration": 0.038748,
     "end_time": "2022-12-02T10:11:19.520718",
     "exception": false,
     "start_time": "2022-12-02T10:11:19.481970",
     "status": "completed"
    },
    "tags": []
   },
   "outputs": [],
   "source": [
    "model_3 = MultinomialNB()"
   ]
  },
  {
   "cell_type": "code",
   "execution_count": 84,
   "id": "58139ba2",
   "metadata": {
    "execution": {
     "iopub.execute_input": "2022-12-02T10:11:19.584240Z",
     "iopub.status.busy": "2022-12-02T10:11:19.583848Z",
     "iopub.status.idle": "2022-12-02T10:11:19.613057Z",
     "shell.execute_reply": "2022-12-02T10:11:19.611766Z"
    },
    "id": "uGvDA1JJFkjF",
    "papermill": {
     "duration": 0.064234,
     "end_time": "2022-12-02T10:11:19.615581",
     "exception": false,
     "start_time": "2022-12-02T10:11:19.551347",
     "status": "completed"
    },
    "tags": []
   },
   "outputs": [
    {
     "data": {
      "text/plain": [
       "MultinomialNB()"
      ]
     },
     "execution_count": 84,
     "metadata": {},
     "output_type": "execute_result"
    }
   ],
   "source": [
    "model_3.fit(train_inputs_nb,train_targets_nb)"
   ]
  },
  {
   "cell_type": "code",
   "execution_count": 85,
   "id": "292cb5d3",
   "metadata": {
    "execution": {
     "iopub.execute_input": "2022-12-02T10:11:19.679600Z",
     "iopub.status.busy": "2022-12-02T10:11:19.679230Z",
     "iopub.status.idle": "2022-12-02T10:11:19.690816Z",
     "shell.execute_reply": "2022-12-02T10:11:19.689544Z"
    },
    "papermill": {
     "duration": 0.047376,
     "end_time": "2022-12-02T10:11:19.693332",
     "exception": false,
     "start_time": "2022-12-02T10:11:19.645956",
     "status": "completed"
    },
    "tags": []
   },
   "outputs": [],
   "source": [
    "train_pred_3 = model_3.predict(train_inputs_nb)"
   ]
  },
  {
   "cell_type": "code",
   "execution_count": 86,
   "id": "da13f70d",
   "metadata": {
    "execution": {
     "iopub.execute_input": "2022-12-02T10:11:19.757106Z",
     "iopub.status.busy": "2022-12-02T10:11:19.756705Z",
     "iopub.status.idle": "2022-12-02T10:11:19.763870Z",
     "shell.execute_reply": "2022-12-02T10:11:19.762666Z"
    },
    "papermill": {
     "duration": 0.041335,
     "end_time": "2022-12-02T10:11:19.765712",
     "exception": false,
     "start_time": "2022-12-02T10:11:19.724377",
     "status": "completed"
    },
    "tags": []
   },
   "outputs": [
    {
     "data": {
      "text/plain": [
       "array([2, 2, 3, ..., 2, 2, 1])"
      ]
     },
     "execution_count": 86,
     "metadata": {},
     "output_type": "execute_result"
    }
   ],
   "source": [
    "train_pred_3"
   ]
  },
  {
   "cell_type": "code",
   "execution_count": 87,
   "id": "a4619bde",
   "metadata": {
    "execution": {
     "iopub.execute_input": "2022-12-02T10:11:19.830009Z",
     "iopub.status.busy": "2022-12-02T10:11:19.829631Z",
     "iopub.status.idle": "2022-12-02T10:11:19.839404Z",
     "shell.execute_reply": "2022-12-02T10:11:19.837809Z"
    },
    "papermill": {
     "duration": 0.043871,
     "end_time": "2022-12-02T10:11:19.841557",
     "exception": false,
     "start_time": "2022-12-02T10:11:19.797686",
     "status": "completed"
    },
    "tags": []
   },
   "outputs": [
    {
     "name": "stdout",
     "output_type": "stream",
     "text": [
      "Accuracy Score of prediction on Training data--> 0.5759408774403008\n"
     ]
    }
   ],
   "source": [
    "print(\"Accuracy Score of prediction on Training data-->\",accuracy_score(train_targets_nb,train_pred_3))"
   ]
  },
  {
   "cell_type": "code",
   "execution_count": 88,
   "id": "a2896fd8",
   "metadata": {
    "execution": {
     "iopub.execute_input": "2022-12-02T10:11:19.907479Z",
     "iopub.status.busy": "2022-12-02T10:11:19.906182Z",
     "iopub.status.idle": "2022-12-02T10:11:20.026595Z",
     "shell.execute_reply": "2022-12-02T10:11:20.025635Z"
    },
    "papermill": {
     "duration": 0.155057,
     "end_time": "2022-12-02T10:11:20.028506",
     "exception": false,
     "start_time": "2022-12-02T10:11:19.873449",
     "status": "completed"
    },
    "tags": []
   },
   "outputs": [
    {
     "name": "stdout",
     "output_type": "stream",
     "text": [
      "              precision    recall  f1-score   support\n",
      "\n",
      "           0       0.62      0.04      0.08      5298\n",
      "           1       0.54      0.16      0.25     20460\n",
      "           2       0.58      0.95      0.72     59684\n",
      "           3       0.55      0.28      0.37     24671\n",
      "           4       0.72      0.07      0.12      6932\n",
      "\n",
      "    accuracy                           0.58    117045\n",
      "   macro avg       0.60      0.30      0.31    117045\n",
      "weighted avg       0.58      0.58      0.50    117045\n",
      "\n"
     ]
    }
   ],
   "source": [
    "#classificatiopn report for model predictions\n",
    "report = classification_report(train_targets_nb,train_pred_3)\n",
    "print(report)"
   ]
  },
  {
   "cell_type": "code",
   "execution_count": 89,
   "id": "3058d3b7",
   "metadata": {
    "execution": {
     "iopub.execute_input": "2022-12-02T10:11:20.094292Z",
     "iopub.status.busy": "2022-12-02T10:11:20.093727Z",
     "iopub.status.idle": "2022-12-02T10:11:20.102652Z",
     "shell.execute_reply": "2022-12-02T10:11:20.101583Z"
    },
    "papermill": {
     "duration": 0.044292,
     "end_time": "2022-12-02T10:11:20.104763",
     "exception": false,
     "start_time": "2022-12-02T10:11:20.060471",
     "status": "completed"
    },
    "tags": []
   },
   "outputs": [
    {
     "data": {
      "text/plain": [
       "array([2, 2, 2, ..., 2, 2, 2])"
      ]
     },
     "execution_count": 89,
     "metadata": {},
     "output_type": "execute_result"
    }
   ],
   "source": [
    "val_pred_3 = model_3.predict(val_inputs_nb)\n",
    "val_pred_3"
   ]
  },
  {
   "cell_type": "code",
   "execution_count": 90,
   "id": "4a1a3391",
   "metadata": {
    "execution": {
     "iopub.execute_input": "2022-12-02T10:11:20.168909Z",
     "iopub.status.busy": "2022-12-02T10:11:20.168586Z",
     "iopub.status.idle": "2022-12-02T10:11:20.175985Z",
     "shell.execute_reply": "2022-12-02T10:11:20.174561Z"
    },
    "papermill": {
     "duration": 0.042418,
     "end_time": "2022-12-02T10:11:20.178308",
     "exception": false,
     "start_time": "2022-12-02T10:11:20.135890",
     "status": "completed"
    },
    "tags": []
   },
   "outputs": [
    {
     "name": "stdout",
     "output_type": "stream",
     "text": [
      "Accuracy Score of prediction on validation data--> 0.5671921056004101\n"
     ]
    }
   ],
   "source": [
    "print(\"Accuracy Score of prediction on validation data-->\",accuracy_score(val_targets_nb,val_pred_3))"
   ]
  },
  {
   "cell_type": "code",
   "execution_count": 91,
   "id": "99415f8e",
   "metadata": {
    "execution": {
     "iopub.execute_input": "2022-12-02T10:11:20.244238Z",
     "iopub.status.busy": "2022-12-02T10:11:20.242752Z",
     "iopub.status.idle": "2022-12-02T10:11:20.253698Z",
     "shell.execute_reply": "2022-12-02T10:11:20.252793Z"
    },
    "papermill": {
     "duration": 0.046004,
     "end_time": "2022-12-02T10:11:20.255758",
     "exception": false,
     "start_time": "2022-12-02T10:11:20.209754",
     "status": "completed"
    },
    "tags": []
   },
   "outputs": [
    {
     "data": {
      "text/plain": [
       "array([2, 2, 2, ..., 2, 2, 2])"
      ]
     },
     "execution_count": 91,
     "metadata": {},
     "output_type": "execute_result"
    }
   ],
   "source": [
    "test_pred_3 = model_3.predict(test_inputs)\n",
    "test_pred_3"
   ]
  },
  {
   "cell_type": "code",
   "execution_count": 92,
   "id": "b48ab902",
   "metadata": {
    "execution": {
     "iopub.execute_input": "2022-12-02T10:11:20.321024Z",
     "iopub.status.busy": "2022-12-02T10:11:20.320353Z",
     "iopub.status.idle": "2022-12-02T10:11:20.334482Z",
     "shell.execute_reply": "2022-12-02T10:11:20.332887Z"
    },
    "papermill": {
     "duration": 0.049592,
     "end_time": "2022-12-02T10:11:20.337381",
     "exception": false,
     "start_time": "2022-12-02T10:11:20.287789",
     "status": "completed"
    },
    "tags": []
   },
   "outputs": [
    {
     "data": {
      "text/html": [
       "<div>\n",
       "<style scoped>\n",
       "    .dataframe tbody tr th:only-of-type {\n",
       "        vertical-align: middle;\n",
       "    }\n",
       "\n",
       "    .dataframe tbody tr th {\n",
       "        vertical-align: top;\n",
       "    }\n",
       "\n",
       "    .dataframe thead th {\n",
       "        text-align: right;\n",
       "    }\n",
       "</style>\n",
       "<table border=\"1\" class=\"dataframe\">\n",
       "  <thead>\n",
       "    <tr style=\"text-align: right;\">\n",
       "      <th></th>\n",
       "      <th>PhraseId</th>\n",
       "      <th>Sentiment</th>\n",
       "    </tr>\n",
       "  </thead>\n",
       "  <tbody>\n",
       "    <tr>\n",
       "      <th>0</th>\n",
       "      <td>156061</td>\n",
       "      <td>2</td>\n",
       "    </tr>\n",
       "    <tr>\n",
       "      <th>1</th>\n",
       "      <td>156062</td>\n",
       "      <td>2</td>\n",
       "    </tr>\n",
       "    <tr>\n",
       "      <th>2</th>\n",
       "      <td>156063</td>\n",
       "      <td>2</td>\n",
       "    </tr>\n",
       "    <tr>\n",
       "      <th>3</th>\n",
       "      <td>156064</td>\n",
       "      <td>2</td>\n",
       "    </tr>\n",
       "    <tr>\n",
       "      <th>4</th>\n",
       "      <td>156065</td>\n",
       "      <td>2</td>\n",
       "    </tr>\n",
       "    <tr>\n",
       "      <th>...</th>\n",
       "      <td>...</td>\n",
       "      <td>...</td>\n",
       "    </tr>\n",
       "    <tr>\n",
       "      <th>66287</th>\n",
       "      <td>222348</td>\n",
       "      <td>2</td>\n",
       "    </tr>\n",
       "    <tr>\n",
       "      <th>66288</th>\n",
       "      <td>222349</td>\n",
       "      <td>2</td>\n",
       "    </tr>\n",
       "    <tr>\n",
       "      <th>66289</th>\n",
       "      <td>222350</td>\n",
       "      <td>2</td>\n",
       "    </tr>\n",
       "    <tr>\n",
       "      <th>66290</th>\n",
       "      <td>222351</td>\n",
       "      <td>2</td>\n",
       "    </tr>\n",
       "    <tr>\n",
       "      <th>66291</th>\n",
       "      <td>222352</td>\n",
       "      <td>2</td>\n",
       "    </tr>\n",
       "  </tbody>\n",
       "</table>\n",
       "<p>66292 rows × 2 columns</p>\n",
       "</div>"
      ],
      "text/plain": [
       "       PhraseId  Sentiment\n",
       "0        156061          2\n",
       "1        156062          2\n",
       "2        156063          2\n",
       "3        156064          2\n",
       "4        156065          2\n",
       "...         ...        ...\n",
       "66287    222348          2\n",
       "66288    222349          2\n",
       "66289    222350          2\n",
       "66290    222351          2\n",
       "66291    222352          2\n",
       "\n",
       "[66292 rows x 2 columns]"
      ]
     },
     "execution_count": 92,
     "metadata": {},
     "output_type": "execute_result"
    }
   ],
   "source": [
    "sub_df.Sentiment = test_pred_3\n",
    "sub_df"
   ]
  },
  {
   "cell_type": "code",
   "execution_count": 93,
   "id": "d08b5d45",
   "metadata": {
    "execution": {
     "iopub.execute_input": "2022-12-02T10:11:20.402419Z",
     "iopub.status.busy": "2022-12-02T10:11:20.402052Z",
     "iopub.status.idle": "2022-12-02T10:11:20.464861Z",
     "shell.execute_reply": "2022-12-02T10:11:20.463399Z"
    },
    "papermill": {
     "duration": 0.098112,
     "end_time": "2022-12-02T10:11:20.467276",
     "exception": false,
     "start_time": "2022-12-02T10:11:20.369164",
     "status": "completed"
    },
    "tags": []
   },
   "outputs": [],
   "source": [
    "sub_df.to_csv(\"submission_Naive_bayes_classifier.csv\",index=None)"
   ]
  },
  {
   "cell_type": "markdown",
   "id": "f24922b7",
   "metadata": {
    "papermill": {
     "duration": 0.03241,
     "end_time": "2022-12-02T10:11:20.531252",
     "exception": false,
     "start_time": "2022-12-02T10:11:20.498842",
     "status": "completed"
    },
    "tags": []
   },
   "source": [
    "Best Model : Logistic Regression"
   ]
  },
  {
   "cell_type": "code",
   "execution_count": 94,
   "id": "4e5a1565",
   "metadata": {
    "execution": {
     "iopub.execute_input": "2022-12-02T10:11:20.596149Z",
     "iopub.status.busy": "2022-12-02T10:11:20.595745Z",
     "iopub.status.idle": "2022-12-02T10:11:20.608965Z",
     "shell.execute_reply": "2022-12-02T10:11:20.607078Z"
    },
    "papermill": {
     "duration": 0.048826,
     "end_time": "2022-12-02T10:11:20.611748",
     "exception": false,
     "start_time": "2022-12-02T10:11:20.562922",
     "status": "completed"
    },
    "tags": []
   },
   "outputs": [
    {
     "name": "stdout",
     "output_type": "stream",
     "text": [
      "Accuracy for Logistic Regression:57.91%\n",
      "Accuracy for Decision Trees Model:51.82%\n",
      "Accuracy for Naive bayes classifier:56.72%\n"
     ]
    }
   ],
   "source": [
    "print('Accuracy for Logistic Regression:'+str('{:04.2f}'.format(accuracy_score(val_targets,val_pred_1)*100))+'%')\n",
    "print('Accuracy for Decision Trees Model:'+str('{:04.2f}'.format(accuracy_score(val_targets,val_pred_2)*100))+'%')\n",
    "print('Accuracy for Naive bayes classifier:'+str('{:04.2f}'.format(accuracy_score(val_targets_nb,val_pred_3)*100))+'%')"
   ]
  }
 ],
 "metadata": {
  "kernelspec": {
   "display_name": "Python 3",
   "language": "python",
   "name": "python3"
  },
  "language_info": {
   "codemirror_mode": {
    "name": "ipython",
    "version": 3
   },
   "file_extension": ".py",
   "mimetype": "text/x-python",
   "name": "python",
   "nbconvert_exporter": "python",
   "pygments_lexer": "ipython3",
   "version": "3.7.12"
  },
  "papermill": {
   "default_parameters": {},
   "duration": 112.781984,
   "end_time": "2022-12-02T10:11:21.565412",
   "environment_variables": {},
   "exception": null,
   "input_path": "__notebook__.ipynb",
   "output_path": "__notebook__.ipynb",
   "parameters": {},
   "start_time": "2022-12-02T10:09:28.783428",
   "version": "2.3.4"
  }
 },
 "nbformat": 4,
 "nbformat_minor": 5
}
